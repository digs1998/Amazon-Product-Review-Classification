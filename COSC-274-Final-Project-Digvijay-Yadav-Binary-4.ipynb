{
 "cells": [
  {
   "cell_type": "markdown",
   "id": "afceccd9",
   "metadata": {},
   "source": [
    "# Final Project\n",
    "\n",
    "## Loading libraries and Dataset"
   ]
  },
  {
   "cell_type": "code",
   "execution_count": 1,
   "id": "5cb1e165",
   "metadata": {},
   "outputs": [],
   "source": [
    "import pandas as pd\n",
    "import sklearn\n",
    "import numpy as np\n",
    "import matplotlib.pyplot as plt\n",
    "import re, string\n",
    "import warnings\n",
    "warnings.filterwarnings('ignore')"
   ]
  },
  {
   "cell_type": "code",
   "execution_count": 2,
   "id": "349decbb",
   "metadata": {},
   "outputs": [
    {
     "name": "stdout",
     "output_type": "stream",
     "text": [
      "(29189, 13)\n",
      "(4500, 12)\n"
     ]
    }
   ],
   "source": [
    "train_df = pd.read_csv(\"/Users/Lenovo/Desktop/Education/Winter term/COSC-274/dartmouth-cosc-74274-w23-session1-part1/training.csv\")\n",
    "\n",
    "test_df = pd.read_csv(\"/Users/Lenovo/Desktop/Education/Winter term/COSC-274/dartmouth-cosc-74274-w23-session1-part1/test.csv\")\n",
    "\n",
    "print(train_df.shape)\n",
    "print(test_df.shape)"
   ]
  },
  {
   "cell_type": "code",
   "execution_count": 3,
   "id": "744000dd",
   "metadata": {},
   "outputs": [
    {
     "data": {
      "text/html": [
       "<div>\n",
       "<style scoped>\n",
       "    .dataframe tbody tr th:only-of-type {\n",
       "        vertical-align: middle;\n",
       "    }\n",
       "\n",
       "    .dataframe tbody tr th {\n",
       "        vertical-align: top;\n",
       "    }\n",
       "\n",
       "    .dataframe thead th {\n",
       "        text-align: right;\n",
       "    }\n",
       "</style>\n",
       "<table border=\"1\" class=\"dataframe\">\n",
       "  <thead>\n",
       "    <tr style=\"text-align: right;\">\n",
       "      <th></th>\n",
       "      <th>overall</th>\n",
       "      <th>verified</th>\n",
       "      <th>reviewTime</th>\n",
       "      <th>reviewerID</th>\n",
       "      <th>asin</th>\n",
       "      <th>reviewerName</th>\n",
       "      <th>reviewText</th>\n",
       "      <th>summary</th>\n",
       "      <th>unixReviewTime</th>\n",
       "      <th>vote</th>\n",
       "      <th>image</th>\n",
       "      <th>style</th>\n",
       "      <th>category</th>\n",
       "    </tr>\n",
       "  </thead>\n",
       "  <tbody>\n",
       "    <tr>\n",
       "      <th>0</th>\n",
       "      <td>1</td>\n",
       "      <td>False</td>\n",
       "      <td>11 12, 2016</td>\n",
       "      <td>C413C78E10E54C5DB41837889F36C1E8</td>\n",
       "      <td>565D194F38B1CC3F806EE677C61F639C</td>\n",
       "      <td>465E154EC79AFFAB5EB2607198B21433</td>\n",
       "      <td>all of the reviews for this product are fake.</td>\n",
       "      <td>All fake reviews, beware.</td>\n",
       "      <td>1478908800</td>\n",
       "      <td>2.0</td>\n",
       "      <td>NaN</td>\n",
       "      <td>{'Size:': ' Polaris H4'}</td>\n",
       "      <td>automotive</td>\n",
       "    </tr>\n",
       "    <tr>\n",
       "      <th>1</th>\n",
       "      <td>1</td>\n",
       "      <td>True</td>\n",
       "      <td>12 6, 2016</td>\n",
       "      <td>490AE37808EFEE3AF4FE6DEBDEB5A4C8</td>\n",
       "      <td>0D66512A0A7F580523AB996378DF0F14</td>\n",
       "      <td>760C63E8E5E8DC3FAA01878D37BA5678</td>\n",
       "      <td>wrong part. our fault.</td>\n",
       "      <td>One Star</td>\n",
       "      <td>1480982400</td>\n",
       "      <td>NaN</td>\n",
       "      <td>NaN</td>\n",
       "      <td>NaN</td>\n",
       "      <td>automotive</td>\n",
       "    </tr>\n",
       "    <tr>\n",
       "      <th>2</th>\n",
       "      <td>1</td>\n",
       "      <td>True</td>\n",
       "      <td>09 17, 2014</td>\n",
       "      <td>74A9FA5A64449BEE2A2E8E3F62872F0F</td>\n",
       "      <td>A0E45600FF2C5A779CB4314F379C253A</td>\n",
       "      <td>C6E4DD5C1C4EC09E90182644ED6CA9EF</td>\n",
       "      <td>this wire set it really sucks!!!</td>\n",
       "      <td>One Star</td>\n",
       "      <td>1410912000</td>\n",
       "      <td>NaN</td>\n",
       "      <td>NaN</td>\n",
       "      <td>NaN</td>\n",
       "      <td>automotive</td>\n",
       "    </tr>\n",
       "    <tr>\n",
       "      <th>3</th>\n",
       "      <td>1</td>\n",
       "      <td>True</td>\n",
       "      <td>06 11, 2016</td>\n",
       "      <td>EB561158A2829D98B467FE03CC1E45F1</td>\n",
       "      <td>37AB9A82470595E0ACB88BAC48C150EE</td>\n",
       "      <td>F4892A77EA45C52F40AB17ED537EF9FF</td>\n",
       "      <td>first use, it leaked instantly. even at 5 buck...</td>\n",
       "      <td>One Star</td>\n",
       "      <td>1465603200</td>\n",
       "      <td>NaN</td>\n",
       "      <td>NaN</td>\n",
       "      <td>{'Color:': ' Clear', 'Style:': ' 45 Degree'}</td>\n",
       "      <td>automotive</td>\n",
       "    </tr>\n",
       "    <tr>\n",
       "      <th>4</th>\n",
       "      <td>1</td>\n",
       "      <td>True</td>\n",
       "      <td>12 23, 2017</td>\n",
       "      <td>5045D801332850D21618DD13A697CD9B</td>\n",
       "      <td>5772FF30428EEB8E0258C1A53CA2EC50</td>\n",
       "      <td>522F0BBFF2B47F1D63FF781A0AB1D079</td>\n",
       "      <td>didn't fit</td>\n",
       "      <td>One Star</td>\n",
       "      <td>1513987200</td>\n",
       "      <td>NaN</td>\n",
       "      <td>NaN</td>\n",
       "      <td>NaN</td>\n",
       "      <td>automotive</td>\n",
       "    </tr>\n",
       "  </tbody>\n",
       "</table>\n",
       "</div>"
      ],
      "text/plain": [
       "   overall  verified   reviewTime                        reviewerID  \\\n",
       "0        1     False  11 12, 2016  C413C78E10E54C5DB41837889F36C1E8   \n",
       "1        1      True   12 6, 2016  490AE37808EFEE3AF4FE6DEBDEB5A4C8   \n",
       "2        1      True  09 17, 2014  74A9FA5A64449BEE2A2E8E3F62872F0F   \n",
       "3        1      True  06 11, 2016  EB561158A2829D98B467FE03CC1E45F1   \n",
       "4        1      True  12 23, 2017  5045D801332850D21618DD13A697CD9B   \n",
       "\n",
       "                               asin                      reviewerName  \\\n",
       "0  565D194F38B1CC3F806EE677C61F639C  465E154EC79AFFAB5EB2607198B21433   \n",
       "1  0D66512A0A7F580523AB996378DF0F14  760C63E8E5E8DC3FAA01878D37BA5678   \n",
       "2  A0E45600FF2C5A779CB4314F379C253A  C6E4DD5C1C4EC09E90182644ED6CA9EF   \n",
       "3  37AB9A82470595E0ACB88BAC48C150EE  F4892A77EA45C52F40AB17ED537EF9FF   \n",
       "4  5772FF30428EEB8E0258C1A53CA2EC50  522F0BBFF2B47F1D63FF781A0AB1D079   \n",
       "\n",
       "                                          reviewText  \\\n",
       "0      all of the reviews for this product are fake.   \n",
       "1                             wrong part. our fault.   \n",
       "2                   this wire set it really sucks!!!   \n",
       "3  first use, it leaked instantly. even at 5 buck...   \n",
       "4                                         didn't fit   \n",
       "\n",
       "                     summary  unixReviewTime  vote image  \\\n",
       "0  All fake reviews, beware.      1478908800   2.0   NaN   \n",
       "1                   One Star      1480982400   NaN   NaN   \n",
       "2                   One Star      1410912000   NaN   NaN   \n",
       "3                   One Star      1465603200   NaN   NaN   \n",
       "4                   One Star      1513987200   NaN   NaN   \n",
       "\n",
       "                                          style    category  \n",
       "0                      {'Size:': ' Polaris H4'}  automotive  \n",
       "1                                           NaN  automotive  \n",
       "2                                           NaN  automotive  \n",
       "3  {'Color:': ' Clear', 'Style:': ' 45 Degree'}  automotive  \n",
       "4                                           NaN  automotive  "
      ]
     },
     "execution_count": 3,
     "metadata": {},
     "output_type": "execute_result"
    }
   ],
   "source": [
    "train_df.head(5)"
   ]
  },
  {
   "cell_type": "markdown",
   "id": "ec2b4216",
   "metadata": {},
   "source": [
    "## Check for Missing Values"
   ]
  },
  {
   "cell_type": "code",
   "execution_count": 4,
   "id": "bc96ea23",
   "metadata": {},
   "outputs": [
    {
     "data": {
      "text/plain": [
       "overall               0\n",
       "verified              0\n",
       "reviewTime            0\n",
       "reviewerID            0\n",
       "asin                  0\n",
       "reviewerName          4\n",
       "reviewText            0\n",
       "summary               5\n",
       "unixReviewTime        0\n",
       "vote              23142\n",
       "image             28589\n",
       "style             13824\n",
       "category              0\n",
       "dtype: int64"
      ]
     },
     "execution_count": 4,
     "metadata": {},
     "output_type": "execute_result"
    }
   ],
   "source": [
    "train_df.isna().sum()"
   ]
  },
  {
   "cell_type": "code",
   "execution_count": 5,
   "id": "2cdb400f",
   "metadata": {},
   "outputs": [
    {
     "name": "stdout",
     "output_type": "stream",
     "text": [
      "Missing Values in Vote : 0.792832916509644\n",
      "Missing Values in Image : 0.9794443112131282\n",
      "Missing Values in Style : 0.47360306964952553\n"
     ]
    }
   ],
   "source": [
    "na_vote = train_df['vote'].isna().sum()/len(train_df['vote'])\n",
    "image_na = train_df['image'].isna().sum()/len(train_df['image'])\n",
    "style_na = train_df['style'].isna().sum()/len(train_df['style'])\n",
    "\n",
    "print(\"Missing Values in Vote : {}\".format(na_vote))\n",
    "print(\"Missing Values in Image : {}\".format(image_na))\n",
    "print(\"Missing Values in Style : {}\".format(style_na))"
   ]
  },
  {
   "cell_type": "markdown",
   "id": "2cceda90",
   "metadata": {},
   "source": [
    "## Removing Unnecessary Columns"
   ]
  },
  {
   "cell_type": "code",
   "execution_count": 6,
   "id": "615eb66a",
   "metadata": {},
   "outputs": [
    {
     "data": {
      "text/html": [
       "<div>\n",
       "<style scoped>\n",
       "    .dataframe tbody tr th:only-of-type {\n",
       "        vertical-align: middle;\n",
       "    }\n",
       "\n",
       "    .dataframe tbody tr th {\n",
       "        vertical-align: top;\n",
       "    }\n",
       "\n",
       "    .dataframe thead th {\n",
       "        text-align: right;\n",
       "    }\n",
       "</style>\n",
       "<table border=\"1\" class=\"dataframe\">\n",
       "  <thead>\n",
       "    <tr style=\"text-align: right;\">\n",
       "      <th></th>\n",
       "      <th>overall</th>\n",
       "      <th>verified</th>\n",
       "      <th>reviewTime</th>\n",
       "      <th>reviewerID</th>\n",
       "      <th>asin</th>\n",
       "      <th>reviewerName</th>\n",
       "      <th>reviewText</th>\n",
       "      <th>summary</th>\n",
       "      <th>unixReviewTime</th>\n",
       "      <th>category</th>\n",
       "    </tr>\n",
       "  </thead>\n",
       "  <tbody>\n",
       "    <tr>\n",
       "      <th>0</th>\n",
       "      <td>1</td>\n",
       "      <td>False</td>\n",
       "      <td>11 12, 2016</td>\n",
       "      <td>C413C78E10E54C5DB41837889F36C1E8</td>\n",
       "      <td>565D194F38B1CC3F806EE677C61F639C</td>\n",
       "      <td>465E154EC79AFFAB5EB2607198B21433</td>\n",
       "      <td>all of the reviews for this product are fake.</td>\n",
       "      <td>All fake reviews, beware.</td>\n",
       "      <td>1478908800</td>\n",
       "      <td>automotive</td>\n",
       "    </tr>\n",
       "    <tr>\n",
       "      <th>1</th>\n",
       "      <td>1</td>\n",
       "      <td>True</td>\n",
       "      <td>12 6, 2016</td>\n",
       "      <td>490AE37808EFEE3AF4FE6DEBDEB5A4C8</td>\n",
       "      <td>0D66512A0A7F580523AB996378DF0F14</td>\n",
       "      <td>760C63E8E5E8DC3FAA01878D37BA5678</td>\n",
       "      <td>wrong part. our fault.</td>\n",
       "      <td>One Star</td>\n",
       "      <td>1480982400</td>\n",
       "      <td>automotive</td>\n",
       "    </tr>\n",
       "    <tr>\n",
       "      <th>2</th>\n",
       "      <td>1</td>\n",
       "      <td>True</td>\n",
       "      <td>09 17, 2014</td>\n",
       "      <td>74A9FA5A64449BEE2A2E8E3F62872F0F</td>\n",
       "      <td>A0E45600FF2C5A779CB4314F379C253A</td>\n",
       "      <td>C6E4DD5C1C4EC09E90182644ED6CA9EF</td>\n",
       "      <td>this wire set it really sucks!!!</td>\n",
       "      <td>One Star</td>\n",
       "      <td>1410912000</td>\n",
       "      <td>automotive</td>\n",
       "    </tr>\n",
       "    <tr>\n",
       "      <th>3</th>\n",
       "      <td>1</td>\n",
       "      <td>True</td>\n",
       "      <td>06 11, 2016</td>\n",
       "      <td>EB561158A2829D98B467FE03CC1E45F1</td>\n",
       "      <td>37AB9A82470595E0ACB88BAC48C150EE</td>\n",
       "      <td>F4892A77EA45C52F40AB17ED537EF9FF</td>\n",
       "      <td>first use, it leaked instantly. even at 5 buck...</td>\n",
       "      <td>One Star</td>\n",
       "      <td>1465603200</td>\n",
       "      <td>automotive</td>\n",
       "    </tr>\n",
       "    <tr>\n",
       "      <th>4</th>\n",
       "      <td>1</td>\n",
       "      <td>True</td>\n",
       "      <td>12 23, 2017</td>\n",
       "      <td>5045D801332850D21618DD13A697CD9B</td>\n",
       "      <td>5772FF30428EEB8E0258C1A53CA2EC50</td>\n",
       "      <td>522F0BBFF2B47F1D63FF781A0AB1D079</td>\n",
       "      <td>didn't fit</td>\n",
       "      <td>One Star</td>\n",
       "      <td>1513987200</td>\n",
       "      <td>automotive</td>\n",
       "    </tr>\n",
       "  </tbody>\n",
       "</table>\n",
       "</div>"
      ],
      "text/plain": [
       "   overall  verified   reviewTime                        reviewerID  \\\n",
       "0        1     False  11 12, 2016  C413C78E10E54C5DB41837889F36C1E8   \n",
       "1        1      True   12 6, 2016  490AE37808EFEE3AF4FE6DEBDEB5A4C8   \n",
       "2        1      True  09 17, 2014  74A9FA5A64449BEE2A2E8E3F62872F0F   \n",
       "3        1      True  06 11, 2016  EB561158A2829D98B467FE03CC1E45F1   \n",
       "4        1      True  12 23, 2017  5045D801332850D21618DD13A697CD9B   \n",
       "\n",
       "                               asin                      reviewerName  \\\n",
       "0  565D194F38B1CC3F806EE677C61F639C  465E154EC79AFFAB5EB2607198B21433   \n",
       "1  0D66512A0A7F580523AB996378DF0F14  760C63E8E5E8DC3FAA01878D37BA5678   \n",
       "2  A0E45600FF2C5A779CB4314F379C253A  C6E4DD5C1C4EC09E90182644ED6CA9EF   \n",
       "3  37AB9A82470595E0ACB88BAC48C150EE  F4892A77EA45C52F40AB17ED537EF9FF   \n",
       "4  5772FF30428EEB8E0258C1A53CA2EC50  522F0BBFF2B47F1D63FF781A0AB1D079   \n",
       "\n",
       "                                          reviewText  \\\n",
       "0      all of the reviews for this product are fake.   \n",
       "1                             wrong part. our fault.   \n",
       "2                   this wire set it really sucks!!!   \n",
       "3  first use, it leaked instantly. even at 5 buck...   \n",
       "4                                         didn't fit   \n",
       "\n",
       "                     summary  unixReviewTime    category  \n",
       "0  All fake reviews, beware.      1478908800  automotive  \n",
       "1                   One Star      1480982400  automotive  \n",
       "2                   One Star      1410912000  automotive  \n",
       "3                   One Star      1465603200  automotive  \n",
       "4                   One Star      1513987200  automotive  "
      ]
     },
     "execution_count": 6,
     "metadata": {},
     "output_type": "execute_result"
    }
   ],
   "source": [
    "train_df = train_df.drop('vote', axis=1)\n",
    "train_df = train_df.drop('image', axis=1)\n",
    "train_df = train_df.drop('style', axis=1)\n",
    "\n",
    "train_df.head(5)"
   ]
  },
  {
   "cell_type": "code",
   "execution_count": 7,
   "id": "2ca56516",
   "metadata": {},
   "outputs": [
    {
     "name": "stdout",
     "output_type": "stream",
     "text": [
      "<class 'pandas.core.frame.DataFrame'>\n",
      "RangeIndex: 29189 entries, 0 to 29188\n",
      "Data columns (total 10 columns):\n",
      " #   Column          Non-Null Count  Dtype \n",
      "---  ------          --------------  ----- \n",
      " 0   overall         29189 non-null  int64 \n",
      " 1   verified        29189 non-null  bool  \n",
      " 2   reviewTime      29189 non-null  object\n",
      " 3   reviewerID      29189 non-null  object\n",
      " 4   asin            29189 non-null  object\n",
      " 5   reviewerName    29185 non-null  object\n",
      " 6   reviewText      29189 non-null  object\n",
      " 7   summary         29184 non-null  object\n",
      " 8   unixReviewTime  29189 non-null  int64 \n",
      " 9   category        29189 non-null  object\n",
      "dtypes: bool(1), int64(2), object(7)\n",
      "memory usage: 2.0+ MB\n"
     ]
    }
   ],
   "source": [
    "train_df.info()"
   ]
  },
  {
   "cell_type": "markdown",
   "id": "bd00c77f",
   "metadata": {},
   "source": [
    "## Data Processing\n",
    "\n",
    "1. The **overall** column is our target variable and it contains numbers from 1 to 5, so based on certain thresholds we will create a new column and put in values like Good, Bad, etc for binary classification.\n",
    "2. We will then apply some basic NLP techniques in **reviewText** column to get important features."
   ]
  },
  {
   "cell_type": "code",
   "execution_count": 8,
   "id": "04c9d7c4",
   "metadata": {
    "scrolled": false
   },
   "outputs": [
    {
     "data": {
      "text/html": [
       "<div>\n",
       "<style scoped>\n",
       "    .dataframe tbody tr th:only-of-type {\n",
       "        vertical-align: middle;\n",
       "    }\n",
       "\n",
       "    .dataframe tbody tr th {\n",
       "        vertical-align: top;\n",
       "    }\n",
       "\n",
       "    .dataframe thead th {\n",
       "        text-align: right;\n",
       "    }\n",
       "</style>\n",
       "<table border=\"1\" class=\"dataframe\">\n",
       "  <thead>\n",
       "    <tr style=\"text-align: right;\">\n",
       "      <th></th>\n",
       "      <th>overall</th>\n",
       "      <th>verified</th>\n",
       "      <th>reviewTime</th>\n",
       "      <th>reviewerID</th>\n",
       "      <th>asin</th>\n",
       "      <th>reviewerName</th>\n",
       "      <th>reviewText</th>\n",
       "      <th>summary</th>\n",
       "      <th>unixReviewTime</th>\n",
       "      <th>category</th>\n",
       "      <th>productReview</th>\n",
       "    </tr>\n",
       "  </thead>\n",
       "  <tbody>\n",
       "    <tr>\n",
       "      <th>0</th>\n",
       "      <td>1</td>\n",
       "      <td>False</td>\n",
       "      <td>11 12, 2016</td>\n",
       "      <td>C413C78E10E54C5DB41837889F36C1E8</td>\n",
       "      <td>565D194F38B1CC3F806EE677C61F639C</td>\n",
       "      <td>465E154EC79AFFAB5EB2607198B21433</td>\n",
       "      <td>all of the reviews for this product are fake.</td>\n",
       "      <td>All fake reviews, beware.</td>\n",
       "      <td>1478908800</td>\n",
       "      <td>automotive</td>\n",
       "      <td>0</td>\n",
       "    </tr>\n",
       "    <tr>\n",
       "      <th>1</th>\n",
       "      <td>1</td>\n",
       "      <td>True</td>\n",
       "      <td>12 6, 2016</td>\n",
       "      <td>490AE37808EFEE3AF4FE6DEBDEB5A4C8</td>\n",
       "      <td>0D66512A0A7F580523AB996378DF0F14</td>\n",
       "      <td>760C63E8E5E8DC3FAA01878D37BA5678</td>\n",
       "      <td>wrong part. our fault.</td>\n",
       "      <td>One Star</td>\n",
       "      <td>1480982400</td>\n",
       "      <td>automotive</td>\n",
       "      <td>0</td>\n",
       "    </tr>\n",
       "    <tr>\n",
       "      <th>2</th>\n",
       "      <td>1</td>\n",
       "      <td>True</td>\n",
       "      <td>09 17, 2014</td>\n",
       "      <td>74A9FA5A64449BEE2A2E8E3F62872F0F</td>\n",
       "      <td>A0E45600FF2C5A779CB4314F379C253A</td>\n",
       "      <td>C6E4DD5C1C4EC09E90182644ED6CA9EF</td>\n",
       "      <td>this wire set it really sucks!!!</td>\n",
       "      <td>One Star</td>\n",
       "      <td>1410912000</td>\n",
       "      <td>automotive</td>\n",
       "      <td>0</td>\n",
       "    </tr>\n",
       "    <tr>\n",
       "      <th>3</th>\n",
       "      <td>1</td>\n",
       "      <td>True</td>\n",
       "      <td>06 11, 2016</td>\n",
       "      <td>EB561158A2829D98B467FE03CC1E45F1</td>\n",
       "      <td>37AB9A82470595E0ACB88BAC48C150EE</td>\n",
       "      <td>F4892A77EA45C52F40AB17ED537EF9FF</td>\n",
       "      <td>first use, it leaked instantly. even at 5 buck...</td>\n",
       "      <td>One Star</td>\n",
       "      <td>1465603200</td>\n",
       "      <td>automotive</td>\n",
       "      <td>0</td>\n",
       "    </tr>\n",
       "    <tr>\n",
       "      <th>4</th>\n",
       "      <td>1</td>\n",
       "      <td>True</td>\n",
       "      <td>12 23, 2017</td>\n",
       "      <td>5045D801332850D21618DD13A697CD9B</td>\n",
       "      <td>5772FF30428EEB8E0258C1A53CA2EC50</td>\n",
       "      <td>522F0BBFF2B47F1D63FF781A0AB1D079</td>\n",
       "      <td>didn't fit</td>\n",
       "      <td>One Star</td>\n",
       "      <td>1513987200</td>\n",
       "      <td>automotive</td>\n",
       "      <td>0</td>\n",
       "    </tr>\n",
       "  </tbody>\n",
       "</table>\n",
       "</div>"
      ],
      "text/plain": [
       "   overall  verified   reviewTime                        reviewerID  \\\n",
       "0        1     False  11 12, 2016  C413C78E10E54C5DB41837889F36C1E8   \n",
       "1        1      True   12 6, 2016  490AE37808EFEE3AF4FE6DEBDEB5A4C8   \n",
       "2        1      True  09 17, 2014  74A9FA5A64449BEE2A2E8E3F62872F0F   \n",
       "3        1      True  06 11, 2016  EB561158A2829D98B467FE03CC1E45F1   \n",
       "4        1      True  12 23, 2017  5045D801332850D21618DD13A697CD9B   \n",
       "\n",
       "                               asin                      reviewerName  \\\n",
       "0  565D194F38B1CC3F806EE677C61F639C  465E154EC79AFFAB5EB2607198B21433   \n",
       "1  0D66512A0A7F580523AB996378DF0F14  760C63E8E5E8DC3FAA01878D37BA5678   \n",
       "2  A0E45600FF2C5A779CB4314F379C253A  C6E4DD5C1C4EC09E90182644ED6CA9EF   \n",
       "3  37AB9A82470595E0ACB88BAC48C150EE  F4892A77EA45C52F40AB17ED537EF9FF   \n",
       "4  5772FF30428EEB8E0258C1A53CA2EC50  522F0BBFF2B47F1D63FF781A0AB1D079   \n",
       "\n",
       "                                          reviewText  \\\n",
       "0      all of the reviews for this product are fake.   \n",
       "1                             wrong part. our fault.   \n",
       "2                   this wire set it really sucks!!!   \n",
       "3  first use, it leaked instantly. even at 5 buck...   \n",
       "4                                         didn't fit   \n",
       "\n",
       "                     summary  unixReviewTime    category  productReview  \n",
       "0  All fake reviews, beware.      1478908800  automotive              0  \n",
       "1                   One Star      1480982400  automotive              0  \n",
       "2                   One Star      1410912000  automotive              0  \n",
       "3                   One Star      1465603200  automotive              0  \n",
       "4                   One Star      1513987200  automotive              0  "
      ]
     },
     "execution_count": 8,
     "metadata": {},
     "output_type": "execute_result"
    }
   ],
   "source": [
    "train_df['productReview'] = train_df['overall'].apply(lambda z: 0 if z <=4 else 1)\n",
    "train_df.head(5)"
   ]
  },
  {
   "cell_type": "code",
   "execution_count": 9,
   "id": "b1bd8be0",
   "metadata": {},
   "outputs": [],
   "source": [
    "train_df = train_df.dropna()"
   ]
  },
  {
   "cell_type": "markdown",
   "id": "1d03b091",
   "metadata": {},
   "source": [
    "## Checking Class Distribution\n",
    "\n",
    "We will explore the class distribution of **productReview** column to see whether the dataset is imbalanced or not, based on this we will apply the cross-validation techniques."
   ]
  },
  {
   "cell_type": "code",
   "execution_count": 10,
   "id": "b0f04a58",
   "metadata": {},
   "outputs": [
    {
     "data": {
      "image/png": "[encoded data removed]",
      "text/plain": [
       "<Figure size 640x480 with 1 Axes>"
      ]
     },
     "metadata": {},
     "output_type": "display_data"
    }
   ],
   "source": [
    "binary_labels = train_df['productReview'].value_counts()\n",
    "\n",
    "binary_labels.plot.bar()\n",
    "plt.show()"
   ]
  },
  {
   "cell_type": "code",
   "execution_count": 11,
   "id": "4beb2157",
   "metadata": {},
   "outputs": [],
   "source": [
    "## preprocess the dataset\n",
    "\n",
    "def preprocessing(t):\n",
    "    t = t.lower()\n",
    "    \n",
    "    #removing punctuations\n",
    "    t = t.translate(str.maketrans('','',string.punctuation))\n",
    "    \n",
    "    #removing digits\n",
    "    t = re.sub(r'\\d','', t)\n",
    "    \n",
    "    #removing whitespaces\n",
    "    t = t.strip()\n",
    "    \n",
    "    return t\n",
    "\n",
    "train_df['reviewText'] = train_df['reviewText'].apply(preprocessing)"
   ]
  },
  {
   "cell_type": "code",
   "execution_count": 12,
   "id": "ea188c76",
   "metadata": {},
   "outputs": [],
   "source": [
    "stop_words = ['a', 'an', 'the', 'and', 'but', 'or', 'if', 'because', 'as', 'at', \n",
    "              'by', 'for', 'from', 'in', 'into', 'of', 'off', 'on', \n",
    "              'onto', 'out', 'over', 'to', 'up', 'with']\n",
    "\n",
    "train_df['reviewText'] = train_df['reviewText'].apply(lambda x: ' '.join([word for word in x.split() if word not in stop_words]))"
   ]
  },
  {
   "cell_type": "markdown",
   "id": "12021504",
   "metadata": {},
   "source": [
    "# Binary Classification"
   ]
  },
  {
   "cell_type": "code",
   "execution_count": 13,
   "id": "5097dea6",
   "metadata": {},
   "outputs": [],
   "source": [
    "from sklearn.model_selection import cross_validate, cross_val_score, cross_val_predict, StratifiedKFold, GridSearchCV, train_test_split\n",
    "from sklearn.feature_extraction.text import TfidfVectorizer, CountVectorizer\n",
    "from sklearn.pipeline import Pipeline\n",
    "from sklearn.linear_model import LogisticRegression\n",
    "from sklearn.metrics import accuracy_score, classification_report, confusion_matrix, roc_auc_score, roc_curve\n",
    "\n",
    "x = train_df['reviewText']\n",
    "y = train_df['productReview']\n",
    "\n",
    "count = CountVectorizer()\n",
    "x_transformed = count.fit_transform(x)"
   ]
  },
  {
   "cell_type": "markdown",
   "id": "903a1076",
   "metadata": {},
   "source": [
    "## Logistic Regression"
   ]
  },
  {
   "cell_type": "code",
   "execution_count": 14,
   "id": "fa9e34af",
   "metadata": {},
   "outputs": [],
   "source": [
    "xtrain, xval, ytrain, yval = train_test_split(x_transformed, y, test_size=0.2, random_state=0)"
   ]
  },
  {
   "cell_type": "code",
   "execution_count": 15,
   "id": "eade0f92",
   "metadata": {},
   "outputs": [
    {
     "data": {
      "text/plain": [
       "GridSearchCV(cv=5, estimator=LogisticRegression(class_weight='balanced'),\n",
       "             param_grid={'C': (1, 10), 'penalty': ('l1', 'l2')},\n",
       "             scoring='f1_macro')"
      ]
     },
     "execution_count": 15,
     "metadata": {},
     "output_type": "execute_result"
    }
   ],
   "source": [
    "# Model 1\n",
    "model = LogisticRegression(class_weight='balanced')\n",
    "model_params = {'C':(1, 10), 'penalty':('l1','l2')}\n",
    "\n",
    "lr = GridSearchCV(model, model_params, cv=5, scoring=\"f1_macro\")\n",
    "lr.fit(x_transformed, y)"
   ]
  },
  {
   "cell_type": "code",
   "execution_count": 16,
   "id": "53c9edf5",
   "metadata": {},
   "outputs": [
    {
     "name": "stdout",
     "output_type": "stream",
     "text": [
      "Best Score : 0.7203457534393344\n",
      "Best Parameter : {'C': 1, 'penalty': 'l2'}\n"
     ]
    }
   ],
   "source": [
    "# scores = cross_val_score(model, x_transformed, y, cv=5, error_score='raise')\n",
    "# scores.mean()\n",
    "\n",
    "print('Best Score : {}'.format(lr.best_score_))\n",
    "print(\"Best Parameter : {}\".format(lr.best_params_))"
   ]
  },
  {
   "cell_type": "code",
   "execution_count": 18,
   "id": "a308005f",
   "metadata": {},
   "outputs": [
    {
     "name": "stdout",
     "output_type": "stream",
     "text": [
      "[       nan 0.72034575        nan 0.71313732]\n",
      "[{'C': 1, 'penalty': 'l1'}, {'C': 1, 'penalty': 'l2'}, {'C': 10, 'penalty': 'l1'}, {'C': 10, 'penalty': 'l2'}]\n"
     ]
    }
   ],
   "source": [
    "print(lr.cv_results_['mean_test_score'])\n",
    "print(lr.cv_results_['params'])"
   ]
  },
  {
   "cell_type": "code",
   "execution_count": 17,
   "id": "c0efe6a5",
   "metadata": {},
   "outputs": [
    {
     "name": "stdout",
     "output_type": "stream",
     "text": [
      "ROC AUC Score : 0.7822985619721525\n",
      "Classification Report:\n",
      "              precision    recall  f1-score   support\n",
      "\n",
      "           0       0.93      0.83      0.88      4718\n",
      "           1       0.51      0.73      0.60      1118\n",
      "\n",
      "    accuracy                           0.81      5836\n",
      "   macro avg       0.72      0.78      0.74      5836\n",
      "weighted avg       0.85      0.81      0.83      5836\n",
      "\n"
     ]
    }
   ],
   "source": [
    "lr_model = LogisticRegression(C=1, class_weight='balanced', penalty='l2')\n",
    "lr_model.fit(xtrain, ytrain)\n",
    "\n",
    "ypred = lr_model.predict(xval)\n",
    "ypred_proba = lr_model.predict_proba(xval)\n",
    "\n",
    "cfr = classification_report(yval, ypred)\n",
    "auc = roc_auc_score(yval, ypred)\n",
    "\n",
    "print(\"ROC AUC Score : {}\".format(auc))\n",
    "print('Classification Report:\\n{}'.format(cfr))"
   ]
  },
  {
   "cell_type": "code",
   "execution_count": 18,
   "id": "b7eee8fe",
   "metadata": {},
   "outputs": [
    {
     "data": {
      "text/plain": [
       "Text(0, 0.5, 'True Positives Rate')"
      ]
     },
     "execution_count": 18,
     "metadata": {},
     "output_type": "execute_result"
    },
    {
     "data": {
      "image/png": "[encoded data removed]",
      "text/plain": [
       "<Figure size 640x480 with 1 Axes>"
      ]
     },
     "metadata": {},
     "output_type": "display_data"
    }
   ],
   "source": [
    "fpr, tpr, threshold = roc_curve(yval, ypred_proba[:,1])\n",
    "plt.plot(fpr, tpr)\n",
    "plt.xlabel('False Positive Rate')\n",
    "plt.ylabel('True Positives Rate')"
   ]
  },
  {
   "cell_type": "code",
   "execution_count": 20,
   "id": "dea8c7fd",
   "metadata": {},
   "outputs": [
    {
     "data": {
      "text/html": [
       "<div>\n",
       "<style scoped>\n",
       "    .dataframe tbody tr th:only-of-type {\n",
       "        vertical-align: middle;\n",
       "    }\n",
       "\n",
       "    .dataframe tbody tr th {\n",
       "        vertical-align: top;\n",
       "    }\n",
       "\n",
       "    .dataframe thead th {\n",
       "        text-align: right;\n",
       "    }\n",
       "</style>\n",
       "<table border=\"1\" class=\"dataframe\">\n",
       "  <thead>\n",
       "    <tr style=\"text-align: right;\">\n",
       "      <th></th>\n",
       "      <th>id</th>\n",
       "      <th>predicted</th>\n",
       "    </tr>\n",
       "  </thead>\n",
       "  <tbody>\n",
       "    <tr>\n",
       "      <th>0</th>\n",
       "      <td>0</td>\n",
       "      <td>0</td>\n",
       "    </tr>\n",
       "    <tr>\n",
       "      <th>1</th>\n",
       "      <td>1</td>\n",
       "      <td>0</td>\n",
       "    </tr>\n",
       "    <tr>\n",
       "      <th>2</th>\n",
       "      <td>2</td>\n",
       "      <td>0</td>\n",
       "    </tr>\n",
       "    <tr>\n",
       "      <th>3</th>\n",
       "      <td>3</td>\n",
       "      <td>0</td>\n",
       "    </tr>\n",
       "    <tr>\n",
       "      <th>4</th>\n",
       "      <td>4</td>\n",
       "      <td>0</td>\n",
       "    </tr>\n",
       "  </tbody>\n",
       "</table>\n",
       "</div>"
      ],
      "text/plain": [
       "   id  predicted\n",
       "0   0          0\n",
       "1   1          0\n",
       "2   2          0\n",
       "3   3          0\n",
       "4   4          0"
      ]
     },
     "execution_count": 20,
     "metadata": {},
     "output_type": "execute_result"
    }
   ],
   "source": [
    "xtest = test_df['reviewText']\n",
    "xtest_transformed = count.transform(xtest)\n",
    "\n",
    "\n",
    "preds = lr_model.predict(xtest_transformed)\n",
    "\n",
    "test_ids = list(test_df.index)\n",
    "\n",
    "subdf = pd.DataFrame({'id':test_ids, 'predicted':preds})\n",
    "subdf.head(5)"
   ]
  },
  {
   "cell_type": "code",
   "execution_count": 21,
   "id": "1986cd02",
   "metadata": {},
   "outputs": [],
   "source": [
    "subdf.to_csv('/Users/Lenovo/Desktop/Education/Winter term/COSC-274/logistic_regression_preds_baseline4.csv', index=False)"
   ]
  },
  {
   "cell_type": "markdown",
   "id": "00ca3bf8",
   "metadata": {},
   "source": [
    "## Decision Tree"
   ]
  },
  {
   "cell_type": "code",
   "execution_count": 19,
   "id": "e9a1f86b",
   "metadata": {},
   "outputs": [],
   "source": [
    "from sklearn.tree import DecisionTreeClassifier\n",
    "\n",
    "dtc = DecisionTreeClassifier(class_weight='balanced')"
   ]
  },
  {
   "cell_type": "code",
   "execution_count": 20,
   "id": "57c101df",
   "metadata": {},
   "outputs": [
    {
     "data": {
      "text/plain": [
       "GridSearchCV(cv=5, estimator=DecisionTreeClassifier(class_weight='balanced'),\n",
       "             param_grid={'criterion': ['gini', 'entropy'],\n",
       "                         'max_depth': [None, 3, 5],\n",
       "                         'splitter': ['best', 'random']},\n",
       "             scoring='f1_macro')"
      ]
     },
     "execution_count": 20,
     "metadata": {},
     "output_type": "execute_result"
    }
   ],
   "source": [
    "dtc_params = {'criterion':['gini', 'entropy'], 'max_depth':[None,3,5], 'splitter':['best','random']}\n",
    "\n",
    "grid_dtc_model = GridSearchCV(dtc, dtc_params,cv=5, scoring=\"f1_macro\")\n",
    "grid_dtc_model.fit(x_transformed,y)"
   ]
  },
  {
   "cell_type": "code",
   "execution_count": 21,
   "id": "4c96a3d2",
   "metadata": {},
   "outputs": [
    {
     "name": "stdout",
     "output_type": "stream",
     "text": [
      "Best Score : 0.6587951496794375\n",
      "Best Parameter : {'criterion': 'entropy', 'max_depth': None, 'splitter': 'random'}\n"
     ]
    }
   ],
   "source": [
    "print('Best Score : {}'.format(grid_dtc_model.best_score_))\n",
    "print(\"Best Parameter : {}\".format(grid_dtc_model.best_params_))"
   ]
  },
  {
   "cell_type": "code",
   "execution_count": 22,
   "id": "89e667ea",
   "metadata": {},
   "outputs": [
    {
     "name": "stdout",
     "output_type": "stream",
     "text": [
      "Score : [0.65435949 0.65614818 0.46312405 0.44414579 0.5643431  0.58099451\n",
      " 0.65477449 0.65879515 0.46471852 0.47198258 0.56708111 0.53069816]\n",
      "Parameter : [{'criterion': 'gini', 'max_depth': None, 'splitter': 'best'}, {'criterion': 'gini', 'max_depth': None, 'splitter': 'random'}, {'criterion': 'gini', 'max_depth': 3, 'splitter': 'best'}, {'criterion': 'gini', 'max_depth': 3, 'splitter': 'random'}, {'criterion': 'gini', 'max_depth': 5, 'splitter': 'best'}, {'criterion': 'gini', 'max_depth': 5, 'splitter': 'random'}, {'criterion': 'entropy', 'max_depth': None, 'splitter': 'best'}, {'criterion': 'entropy', 'max_depth': None, 'splitter': 'random'}, {'criterion': 'entropy', 'max_depth': 3, 'splitter': 'best'}, {'criterion': 'entropy', 'max_depth': 3, 'splitter': 'random'}, {'criterion': 'entropy', 'max_depth': 5, 'splitter': 'best'}, {'criterion': 'entropy', 'max_depth': 5, 'splitter': 'random'}]\n"
     ]
    }
   ],
   "source": [
    "print('Score : {}'.format(grid_dtc_model.cv_results_['mean_test_score']))\n",
    "print(\"Parameter : {}\".format(grid_dtc_model.cv_results_['params']))"
   ]
  },
  {
   "cell_type": "code",
   "execution_count": 25,
   "id": "1aadf6c3",
   "metadata": {},
   "outputs": [
    {
     "name": "stdout",
     "output_type": "stream",
     "text": [
      "Classification Report:\n",
      "              precision    recall  f1-score   support\n",
      "\n",
      "           0       0.88      0.83      0.85      4718\n",
      "           1       0.42      0.52      0.46      1118\n",
      "\n",
      "    accuracy                           0.77      5836\n",
      "   macro avg       0.65      0.67      0.66      5836\n",
      "weighted avg       0.79      0.77      0.78      5836\n",
      "\n"
     ]
    }
   ],
   "source": [
    "dt_model = DecisionTreeClassifier(criterion='gini', splitter='random',class_weight='balanced')\n",
    "dt_model.fit(xtrain, ytrain)\n",
    "\n",
    "ypred = dt_model.predict(xval)\n",
    "ypred_proba = dt_model.predict_proba(xval)\n",
    "\n",
    "cfr = classification_report(yval, ypred)\n",
    "print('Classification Report:\\n{}'.format(cfr))"
   ]
  },
  {
   "cell_type": "code",
   "execution_count": 26,
   "id": "d5541ecc",
   "metadata": {},
   "outputs": [
    {
     "data": {
      "text/plain": [
       "Text(0, 0.5, 'True Positives Rate')"
      ]
     },
     "execution_count": 26,
     "metadata": {},
     "output_type": "execute_result"
    },
    {
     "data": {
      "image/png": "[encoded data removed]",
      "text/plain": [
       "<Figure size 640x480 with 1 Axes>"
      ]
     },
     "metadata": {},
     "output_type": "display_data"
    }
   ],
   "source": [
    "fpr, tpr, threshold = roc_curve(yval, ypred_proba[:,1])\n",
    "plt.plot(fpr, tpr)\n",
    "plt.xlabel('False Positive Rate')\n",
    "plt.ylabel('True Positives Rate')"
   ]
  },
  {
   "cell_type": "code",
   "execution_count": 27,
   "id": "d466e45a",
   "metadata": {},
   "outputs": [
    {
     "data": {
      "text/html": [
       "<div>\n",
       "<style scoped>\n",
       "    .dataframe tbody tr th:only-of-type {\n",
       "        vertical-align: middle;\n",
       "    }\n",
       "\n",
       "    .dataframe tbody tr th {\n",
       "        vertical-align: top;\n",
       "    }\n",
       "\n",
       "    .dataframe thead th {\n",
       "        text-align: right;\n",
       "    }\n",
       "</style>\n",
       "<table border=\"1\" class=\"dataframe\">\n",
       "  <thead>\n",
       "    <tr style=\"text-align: right;\">\n",
       "      <th></th>\n",
       "      <th>id</th>\n",
       "      <th>predicted</th>\n",
       "    </tr>\n",
       "  </thead>\n",
       "  <tbody>\n",
       "    <tr>\n",
       "      <th>0</th>\n",
       "      <td>0</td>\n",
       "      <td>0</td>\n",
       "    </tr>\n",
       "    <tr>\n",
       "      <th>1</th>\n",
       "      <td>1</td>\n",
       "      <td>0</td>\n",
       "    </tr>\n",
       "    <tr>\n",
       "      <th>2</th>\n",
       "      <td>2</td>\n",
       "      <td>0</td>\n",
       "    </tr>\n",
       "    <tr>\n",
       "      <th>3</th>\n",
       "      <td>3</td>\n",
       "      <td>0</td>\n",
       "    </tr>\n",
       "    <tr>\n",
       "      <th>4</th>\n",
       "      <td>4</td>\n",
       "      <td>0</td>\n",
       "    </tr>\n",
       "  </tbody>\n",
       "</table>\n",
       "</div>"
      ],
      "text/plain": [
       "   id  predicted\n",
       "0   0          0\n",
       "1   1          0\n",
       "2   2          0\n",
       "3   3          0\n",
       "4   4          0"
      ]
     },
     "execution_count": 27,
     "metadata": {},
     "output_type": "execute_result"
    }
   ],
   "source": [
    "# xtest = test_df['reviewText']\n",
    "# xtest_transformed = tfidf.transform(xtest)\n",
    "\n",
    "preds = dt_model.predict(xtest_transformed)\n",
    "\n",
    "test_ids = list(test_df.index)\n",
    "\n",
    "subdf = pd.DataFrame({'id':test_ids, 'predicted':preds})\n",
    "subdf.head(5)"
   ]
  },
  {
   "cell_type": "code",
   "execution_count": 28,
   "id": "b0ee8b12",
   "metadata": {},
   "outputs": [],
   "source": [
    "# subdf.to_csv('/Users/Lenovo/Desktop/Education/Winter term/COSC-274/decision_tree_baseline1.csv', index=False)"
   ]
  },
  {
   "cell_type": "markdown",
   "id": "26e1e45c",
   "metadata": {},
   "source": [
    "## Extra Tree Classifier"
   ]
  },
  {
   "cell_type": "code",
   "execution_count": 23,
   "id": "06d1ec10",
   "metadata": {},
   "outputs": [
    {
     "data": {
      "text/plain": [
       "GridSearchCV(cv=5, estimator=ExtraTreeClassifier(class_weight='balanced'),\n",
       "             param_grid={'criterion': ['gini', 'entropy'],\n",
       "                         'max_depth': [None, 2, 4],\n",
       "                         'max_features': ['auto', 'log2', 'sqr2'],\n",
       "                         'min_samples_leaf': [1, 3, 5]},\n",
       "             scoring='f1_macro')"
      ]
     },
     "execution_count": 23,
     "metadata": {},
     "output_type": "execute_result"
    }
   ],
   "source": [
    "from sklearn.tree import ExtraTreeClassifier\n",
    "\n",
    "etc = ExtraTreeClassifier(class_weight='balanced')\n",
    "etc_params = {'criterion':['gini', 'entropy'], 'max_depth':[None,2,4], 'min_samples_leaf':[1,3,5],\n",
    "               'max_features':[\"auto\",\"log2\",\"sqr2\"]}\n",
    "\n",
    "grid_etc_model = GridSearchCV(etc, etc_params,cv=5, scoring=\"f1_macro\")\n",
    "grid_etc_model.fit(x_transformed,y)"
   ]
  },
  {
   "cell_type": "code",
   "execution_count": 24,
   "id": "6f5f67a7",
   "metadata": {},
   "outputs": [
    {
     "name": "stdout",
     "output_type": "stream",
     "text": [
      "Best Score : 0.6233517030009488\n",
      "Best Parameter : {'criterion': 'entropy', 'max_depth': None, 'max_features': 'auto', 'min_samples_leaf': 1}\n"
     ]
    }
   ],
   "source": [
    "print('Best Score : {}'.format(grid_etc_model.best_score_))\n",
    "print(\"Best Parameter : {}\".format(grid_etc_model.best_params_))"
   ]
  },
  {
   "cell_type": "code",
   "execution_count": 25,
   "id": "64c988f1",
   "metadata": {},
   "outputs": [
    {
     "name": "stdout",
     "output_type": "stream",
     "text": [
      "Score : [0.61699977 0.60305985 0.56883032 0.59266371 0.16980265 0.17042563\n",
      "        nan        nan        nan 0.18093227 0.29067909 0.23255508\n",
      " 0.27621231 0.23050592 0.39001581        nan        nan        nan\n",
      " 0.28454613 0.28885375 0.25777878 0.28822222 0.27614224 0.22900492\n",
      "        nan        nan        nan 0.6233517  0.58265635 0.58188314\n",
      " 0.59188181 0.17413924 0.17022422        nan        nan        nan\n",
      " 0.24856557 0.20092242 0.23628655 0.33311957 0.22129872 0.2758837\n",
      "        nan        nan        nan 0.22700198 0.18192211 0.17758389\n",
      " 0.27897932 0.22115713 0.27723561        nan        nan        nan]\n",
      "Parameter : [{'criterion': 'gini', 'max_depth': None, 'max_features': 'auto', 'min_samples_leaf': 1}, {'criterion': 'gini', 'max_depth': None, 'max_features': 'auto', 'min_samples_leaf': 3}, {'criterion': 'gini', 'max_depth': None, 'max_features': 'auto', 'min_samples_leaf': 5}, {'criterion': 'gini', 'max_depth': None, 'max_features': 'log2', 'min_samples_leaf': 1}, {'criterion': 'gini', 'max_depth': None, 'max_features': 'log2', 'min_samples_leaf': 3}, {'criterion': 'gini', 'max_depth': None, 'max_features': 'log2', 'min_samples_leaf': 5}, {'criterion': 'gini', 'max_depth': None, 'max_features': 'sqr2', 'min_samples_leaf': 1}, {'criterion': 'gini', 'max_depth': None, 'max_features': 'sqr2', 'min_samples_leaf': 3}, {'criterion': 'gini', 'max_depth': None, 'max_features': 'sqr2', 'min_samples_leaf': 5}, {'criterion': 'gini', 'max_depth': 2, 'max_features': 'auto', 'min_samples_leaf': 1}, {'criterion': 'gini', 'max_depth': 2, 'max_features': 'auto', 'min_samples_leaf': 3}, {'criterion': 'gini', 'max_depth': 2, 'max_features': 'auto', 'min_samples_leaf': 5}, {'criterion': 'gini', 'max_depth': 2, 'max_features': 'log2', 'min_samples_leaf': 1}, {'criterion': 'gini', 'max_depth': 2, 'max_features': 'log2', 'min_samples_leaf': 3}, {'criterion': 'gini', 'max_depth': 2, 'max_features': 'log2', 'min_samples_leaf': 5}, {'criterion': 'gini', 'max_depth': 2, 'max_features': 'sqr2', 'min_samples_leaf': 1}, {'criterion': 'gini', 'max_depth': 2, 'max_features': 'sqr2', 'min_samples_leaf': 3}, {'criterion': 'gini', 'max_depth': 2, 'max_features': 'sqr2', 'min_samples_leaf': 5}, {'criterion': 'gini', 'max_depth': 4, 'max_features': 'auto', 'min_samples_leaf': 1}, {'criterion': 'gini', 'max_depth': 4, 'max_features': 'auto', 'min_samples_leaf': 3}, {'criterion': 'gini', 'max_depth': 4, 'max_features': 'auto', 'min_samples_leaf': 5}, {'criterion': 'gini', 'max_depth': 4, 'max_features': 'log2', 'min_samples_leaf': 1}, {'criterion': 'gini', 'max_depth': 4, 'max_features': 'log2', 'min_samples_leaf': 3}, {'criterion': 'gini', 'max_depth': 4, 'max_features': 'log2', 'min_samples_leaf': 5}, {'criterion': 'gini', 'max_depth': 4, 'max_features': 'sqr2', 'min_samples_leaf': 1}, {'criterion': 'gini', 'max_depth': 4, 'max_features': 'sqr2', 'min_samples_leaf': 3}, {'criterion': 'gini', 'max_depth': 4, 'max_features': 'sqr2', 'min_samples_leaf': 5}, {'criterion': 'entropy', 'max_depth': None, 'max_features': 'auto', 'min_samples_leaf': 1}, {'criterion': 'entropy', 'max_depth': None, 'max_features': 'auto', 'min_samples_leaf': 3}, {'criterion': 'entropy', 'max_depth': None, 'max_features': 'auto', 'min_samples_leaf': 5}, {'criterion': 'entropy', 'max_depth': None, 'max_features': 'log2', 'min_samples_leaf': 1}, {'criterion': 'entropy', 'max_depth': None, 'max_features': 'log2', 'min_samples_leaf': 3}, {'criterion': 'entropy', 'max_depth': None, 'max_features': 'log2', 'min_samples_leaf': 5}, {'criterion': 'entropy', 'max_depth': None, 'max_features': 'sqr2', 'min_samples_leaf': 1}, {'criterion': 'entropy', 'max_depth': None, 'max_features': 'sqr2', 'min_samples_leaf': 3}, {'criterion': 'entropy', 'max_depth': None, 'max_features': 'sqr2', 'min_samples_leaf': 5}, {'criterion': 'entropy', 'max_depth': 2, 'max_features': 'auto', 'min_samples_leaf': 1}, {'criterion': 'entropy', 'max_depth': 2, 'max_features': 'auto', 'min_samples_leaf': 3}, {'criterion': 'entropy', 'max_depth': 2, 'max_features': 'auto', 'min_samples_leaf': 5}, {'criterion': 'entropy', 'max_depth': 2, 'max_features': 'log2', 'min_samples_leaf': 1}, {'criterion': 'entropy', 'max_depth': 2, 'max_features': 'log2', 'min_samples_leaf': 3}, {'criterion': 'entropy', 'max_depth': 2, 'max_features': 'log2', 'min_samples_leaf': 5}, {'criterion': 'entropy', 'max_depth': 2, 'max_features': 'sqr2', 'min_samples_leaf': 1}, {'criterion': 'entropy', 'max_depth': 2, 'max_features': 'sqr2', 'min_samples_leaf': 3}, {'criterion': 'entropy', 'max_depth': 2, 'max_features': 'sqr2', 'min_samples_leaf': 5}, {'criterion': 'entropy', 'max_depth': 4, 'max_features': 'auto', 'min_samples_leaf': 1}, {'criterion': 'entropy', 'max_depth': 4, 'max_features': 'auto', 'min_samples_leaf': 3}, {'criterion': 'entropy', 'max_depth': 4, 'max_features': 'auto', 'min_samples_leaf': 5}, {'criterion': 'entropy', 'max_depth': 4, 'max_features': 'log2', 'min_samples_leaf': 1}, {'criterion': 'entropy', 'max_depth': 4, 'max_features': 'log2', 'min_samples_leaf': 3}, {'criterion': 'entropy', 'max_depth': 4, 'max_features': 'log2', 'min_samples_leaf': 5}, {'criterion': 'entropy', 'max_depth': 4, 'max_features': 'sqr2', 'min_samples_leaf': 1}, {'criterion': 'entropy', 'max_depth': 4, 'max_features': 'sqr2', 'min_samples_leaf': 3}, {'criterion': 'entropy', 'max_depth': 4, 'max_features': 'sqr2', 'min_samples_leaf': 5}]\n"
     ]
    }
   ],
   "source": [
    "print('Score : {}'.format(grid_etc_model.cv_results_['mean_test_score']))\n",
    "print(\"Parameter : {}\".format(grid_etc_model.cv_results_['params']))"
   ]
  },
  {
   "cell_type": "code",
   "execution_count": 31,
   "id": "39a041d8",
   "metadata": {},
   "outputs": [
    {
     "name": "stdout",
     "output_type": "stream",
     "text": [
      "ROC AUC Score : 0.6400611671814487\n",
      "Classification Report:\n",
      "              precision    recall  f1-score   support\n",
      "\n",
      "           0       0.86      0.85      0.86      4718\n",
      "           1       0.41      0.43      0.42      1118\n",
      "\n",
      "    accuracy                           0.77      5836\n",
      "   macro avg       0.63      0.64      0.64      5836\n",
      "weighted avg       0.78      0.77      0.77      5836\n",
      "\n"
     ]
    }
   ],
   "source": [
    "etc_model = ExtraTreeClassifier(criterion='gini', class_weight='balanced', max_depth=None, max_features='auto')\n",
    "etc_model.fit(xtrain, ytrain)\n",
    "\n",
    "ypred = etc_model.predict(xval)\n",
    "ypred_proba = etc_model.predict_proba(xval)\n",
    "\n",
    "cfr = classification_report(yval, ypred)\n",
    "auc = roc_auc_score(yval, ypred)\n",
    "\n",
    "print(\"ROC AUC Score : {}\".format(auc))\n",
    "print('Classification Report:\\n{}'.format(cfr))"
   ]
  },
  {
   "cell_type": "code",
   "execution_count": 32,
   "id": "bf910dad",
   "metadata": {},
   "outputs": [
    {
     "data": {
      "text/plain": [
       "Text(0, 0.5, 'True Positives Rate')"
      ]
     },
     "execution_count": 32,
     "metadata": {},
     "output_type": "execute_result"
    },
    {
     "data": {
      "image/png": "[encoded data removed]",
      "text/plain": [
       "<Figure size 640x480 with 1 Axes>"
      ]
     },
     "metadata": {},
     "output_type": "display_data"
    }
   ],
   "source": [
    "fpr, tpr, threshold = roc_curve(yval, ypred_proba[:,1])\n",
    "plt.plot(fpr, tpr)\n",
    "plt.xlabel('False Positive Rate')\n",
    "plt.ylabel('True Positives Rate')"
   ]
  },
  {
   "cell_type": "code",
   "execution_count": null,
   "id": "81661858",
   "metadata": {},
   "outputs": [],
   "source": []
  }
 ],
 "metadata": {
  "kernelspec": {
   "display_name": "Python 3 (ipykernel)",
   "language": "python",
   "name": "python3"
  },
  "language_info": {
   "codemirror_mode": {
    "name": "ipython",
    "version": 3
   },
   "file_extension": ".py",
   "mimetype": "text/x-python",
   "name": "python",
   "nbconvert_exporter": "python",
   "pygments_lexer": "ipython3",
   "version": "3.9.13"
  }
 },
 "nbformat": 4,
 "nbformat_minor": 5
}
