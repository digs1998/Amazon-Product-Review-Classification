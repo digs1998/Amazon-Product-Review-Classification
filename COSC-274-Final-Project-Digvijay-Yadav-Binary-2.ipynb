{
 "cells": [
  {
   "cell_type": "markdown",
   "id": "afceccd9",
   "metadata": {},
   "source": [
    "# Final Project\n",
    "\n",
    "## Loading libraries and Dataset"
   ]
  },
  {
   "cell_type": "code",
   "execution_count": 1,
   "id": "5cb1e165",
   "metadata": {},
   "outputs": [],
   "source": [
    "import pandas as pd\n",
    "import sklearn\n",
    "import numpy as np\n",
    "import matplotlib.pyplot as plt\n",
    "import re, string\n",
    "import warnings\n",
    "warnings.filterwarnings('ignore')"
   ]
  },
  {
   "cell_type": "code",
   "execution_count": 2,
   "id": "349decbb",
   "metadata": {},
   "outputs": [
    {
     "name": "stdout",
     "output_type": "stream",
     "text": [
      "(29189, 13)\n",
      "(4500, 12)\n"
     ]
    }
   ],
   "source": [
    "train_df = pd.read_csv(\"/Users/Lenovo/Desktop/Education/Winter term/COSC-274/dartmouth-cosc-74274-w23-session1-part1/training.csv\")\n",
    "\n",
    "test_df = pd.read_csv(\"/Users/Lenovo/Desktop/Education/Winter term/COSC-274/dartmouth-cosc-74274-w23-session1-part1/test.csv\")\n",
    "\n",
    "print(train_df.shape)\n",
    "print(test_df.shape)"
   ]
  },
  {
   "cell_type": "code",
   "execution_count": 3,
   "id": "744000dd",
   "metadata": {},
   "outputs": [
    {
     "data": {
      "text/html": [
       "<div>\n",
       "<style scoped>\n",
       "    .dataframe tbody tr th:only-of-type {\n",
       "        vertical-align: middle;\n",
       "    }\n",
       "\n",
       "    .dataframe tbody tr th {\n",
       "        vertical-align: top;\n",
       "    }\n",
       "\n",
       "    .dataframe thead th {\n",
       "        text-align: right;\n",
       "    }\n",
       "</style>\n",
       "<table border=\"1\" class=\"dataframe\">\n",
       "  <thead>\n",
       "    <tr style=\"text-align: right;\">\n",
       "      <th></th>\n",
       "      <th>overall</th>\n",
       "      <th>verified</th>\n",
       "      <th>reviewTime</th>\n",
       "      <th>reviewerID</th>\n",
       "      <th>asin</th>\n",
       "      <th>reviewerName</th>\n",
       "      <th>reviewText</th>\n",
       "      <th>summary</th>\n",
       "      <th>unixReviewTime</th>\n",
       "      <th>vote</th>\n",
       "      <th>image</th>\n",
       "      <th>style</th>\n",
       "      <th>category</th>\n",
       "    </tr>\n",
       "  </thead>\n",
       "  <tbody>\n",
       "    <tr>\n",
       "      <th>0</th>\n",
       "      <td>1</td>\n",
       "      <td>False</td>\n",
       "      <td>11 12, 2016</td>\n",
       "      <td>C413C78E10E54C5DB41837889F36C1E8</td>\n",
       "      <td>565D194F38B1CC3F806EE677C61F639C</td>\n",
       "      <td>465E154EC79AFFAB5EB2607198B21433</td>\n",
       "      <td>all of the reviews for this product are fake.</td>\n",
       "      <td>All fake reviews, beware.</td>\n",
       "      <td>1478908800</td>\n",
       "      <td>2.0</td>\n",
       "      <td>NaN</td>\n",
       "      <td>{'Size:': ' Polaris H4'}</td>\n",
       "      <td>automotive</td>\n",
       "    </tr>\n",
       "    <tr>\n",
       "      <th>1</th>\n",
       "      <td>1</td>\n",
       "      <td>True</td>\n",
       "      <td>12 6, 2016</td>\n",
       "      <td>490AE37808EFEE3AF4FE6DEBDEB5A4C8</td>\n",
       "      <td>0D66512A0A7F580523AB996378DF0F14</td>\n",
       "      <td>760C63E8E5E8DC3FAA01878D37BA5678</td>\n",
       "      <td>wrong part. our fault.</td>\n",
       "      <td>One Star</td>\n",
       "      <td>1480982400</td>\n",
       "      <td>NaN</td>\n",
       "      <td>NaN</td>\n",
       "      <td>NaN</td>\n",
       "      <td>automotive</td>\n",
       "    </tr>\n",
       "    <tr>\n",
       "      <th>2</th>\n",
       "      <td>1</td>\n",
       "      <td>True</td>\n",
       "      <td>09 17, 2014</td>\n",
       "      <td>74A9FA5A64449BEE2A2E8E3F62872F0F</td>\n",
       "      <td>A0E45600FF2C5A779CB4314F379C253A</td>\n",
       "      <td>C6E4DD5C1C4EC09E90182644ED6CA9EF</td>\n",
       "      <td>this wire set it really sucks!!!</td>\n",
       "      <td>One Star</td>\n",
       "      <td>1410912000</td>\n",
       "      <td>NaN</td>\n",
       "      <td>NaN</td>\n",
       "      <td>NaN</td>\n",
       "      <td>automotive</td>\n",
       "    </tr>\n",
       "    <tr>\n",
       "      <th>3</th>\n",
       "      <td>1</td>\n",
       "      <td>True</td>\n",
       "      <td>06 11, 2016</td>\n",
       "      <td>EB561158A2829D98B467FE03CC1E45F1</td>\n",
       "      <td>37AB9A82470595E0ACB88BAC48C150EE</td>\n",
       "      <td>F4892A77EA45C52F40AB17ED537EF9FF</td>\n",
       "      <td>first use, it leaked instantly. even at 5 buck...</td>\n",
       "      <td>One Star</td>\n",
       "      <td>1465603200</td>\n",
       "      <td>NaN</td>\n",
       "      <td>NaN</td>\n",
       "      <td>{'Color:': ' Clear', 'Style:': ' 45 Degree'}</td>\n",
       "      <td>automotive</td>\n",
       "    </tr>\n",
       "    <tr>\n",
       "      <th>4</th>\n",
       "      <td>1</td>\n",
       "      <td>True</td>\n",
       "      <td>12 23, 2017</td>\n",
       "      <td>5045D801332850D21618DD13A697CD9B</td>\n",
       "      <td>5772FF30428EEB8E0258C1A53CA2EC50</td>\n",
       "      <td>522F0BBFF2B47F1D63FF781A0AB1D079</td>\n",
       "      <td>didn't fit</td>\n",
       "      <td>One Star</td>\n",
       "      <td>1513987200</td>\n",
       "      <td>NaN</td>\n",
       "      <td>NaN</td>\n",
       "      <td>NaN</td>\n",
       "      <td>automotive</td>\n",
       "    </tr>\n",
       "  </tbody>\n",
       "</table>\n",
       "</div>"
      ],
      "text/plain": [
       "   overall  verified   reviewTime                        reviewerID  \\\n",
       "0        1     False  11 12, 2016  C413C78E10E54C5DB41837889F36C1E8   \n",
       "1        1      True   12 6, 2016  490AE37808EFEE3AF4FE6DEBDEB5A4C8   \n",
       "2        1      True  09 17, 2014  74A9FA5A64449BEE2A2E8E3F62872F0F   \n",
       "3        1      True  06 11, 2016  EB561158A2829D98B467FE03CC1E45F1   \n",
       "4        1      True  12 23, 2017  5045D801332850D21618DD13A697CD9B   \n",
       "\n",
       "                               asin                      reviewerName  \\\n",
       "0  565D194F38B1CC3F806EE677C61F639C  465E154EC79AFFAB5EB2607198B21433   \n",
       "1  0D66512A0A7F580523AB996378DF0F14  760C63E8E5E8DC3FAA01878D37BA5678   \n",
       "2  A0E45600FF2C5A779CB4314F379C253A  C6E4DD5C1C4EC09E90182644ED6CA9EF   \n",
       "3  37AB9A82470595E0ACB88BAC48C150EE  F4892A77EA45C52F40AB17ED537EF9FF   \n",
       "4  5772FF30428EEB8E0258C1A53CA2EC50  522F0BBFF2B47F1D63FF781A0AB1D079   \n",
       "\n",
       "                                          reviewText  \\\n",
       "0      all of the reviews for this product are fake.   \n",
       "1                             wrong part. our fault.   \n",
       "2                   this wire set it really sucks!!!   \n",
       "3  first use, it leaked instantly. even at 5 buck...   \n",
       "4                                         didn't fit   \n",
       "\n",
       "                     summary  unixReviewTime  vote image  \\\n",
       "0  All fake reviews, beware.      1478908800   2.0   NaN   \n",
       "1                   One Star      1480982400   NaN   NaN   \n",
       "2                   One Star      1410912000   NaN   NaN   \n",
       "3                   One Star      1465603200   NaN   NaN   \n",
       "4                   One Star      1513987200   NaN   NaN   \n",
       "\n",
       "                                          style    category  \n",
       "0                      {'Size:': ' Polaris H4'}  automotive  \n",
       "1                                           NaN  automotive  \n",
       "2                                           NaN  automotive  \n",
       "3  {'Color:': ' Clear', 'Style:': ' 45 Degree'}  automotive  \n",
       "4                                           NaN  automotive  "
      ]
     },
     "execution_count": 3,
     "metadata": {},
     "output_type": "execute_result"
    }
   ],
   "source": [
    "train_df.head(5)"
   ]
  },
  {
   "cell_type": "markdown",
   "id": "ec2b4216",
   "metadata": {},
   "source": [
    "## Check for Missing Values"
   ]
  },
  {
   "cell_type": "code",
   "execution_count": 4,
   "id": "bc96ea23",
   "metadata": {},
   "outputs": [
    {
     "data": {
      "text/plain": [
       "overall               0\n",
       "verified              0\n",
       "reviewTime            0\n",
       "reviewerID            0\n",
       "asin                  0\n",
       "reviewerName          4\n",
       "reviewText            0\n",
       "summary               5\n",
       "unixReviewTime        0\n",
       "vote              23142\n",
       "image             28589\n",
       "style             13824\n",
       "category              0\n",
       "dtype: int64"
      ]
     },
     "execution_count": 4,
     "metadata": {},
     "output_type": "execute_result"
    }
   ],
   "source": [
    "train_df.isna().sum()"
   ]
  },
  {
   "cell_type": "code",
   "execution_count": 5,
   "id": "2cdb400f",
   "metadata": {},
   "outputs": [
    {
     "name": "stdout",
     "output_type": "stream",
     "text": [
      "Missing Values in Vote : 0.792832916509644\n",
      "Missing Values in Image : 0.9794443112131282\n",
      "Missing Values in Style : 0.47360306964952553\n"
     ]
    }
   ],
   "source": [
    "na_vote = train_df['vote'].isna().sum()/len(train_df['vote'])\n",
    "image_na = train_df['image'].isna().sum()/len(train_df['image'])\n",
    "style_na = train_df['style'].isna().sum()/len(train_df['style'])\n",
    "\n",
    "print(\"Missing Values in Vote : {}\".format(na_vote))\n",
    "print(\"Missing Values in Image : {}\".format(image_na))\n",
    "print(\"Missing Values in Style : {}\".format(style_na))"
   ]
  },
  {
   "cell_type": "markdown",
   "id": "2cceda90",
   "metadata": {},
   "source": [
    "## Removing Unnecessary Columns"
   ]
  },
  {
   "cell_type": "code",
   "execution_count": 6,
   "id": "615eb66a",
   "metadata": {},
   "outputs": [
    {
     "data": {
      "text/html": [
       "<div>\n",
       "<style scoped>\n",
       "    .dataframe tbody tr th:only-of-type {\n",
       "        vertical-align: middle;\n",
       "    }\n",
       "\n",
       "    .dataframe tbody tr th {\n",
       "        vertical-align: top;\n",
       "    }\n",
       "\n",
       "    .dataframe thead th {\n",
       "        text-align: right;\n",
       "    }\n",
       "</style>\n",
       "<table border=\"1\" class=\"dataframe\">\n",
       "  <thead>\n",
       "    <tr style=\"text-align: right;\">\n",
       "      <th></th>\n",
       "      <th>overall</th>\n",
       "      <th>verified</th>\n",
       "      <th>reviewTime</th>\n",
       "      <th>reviewerID</th>\n",
       "      <th>asin</th>\n",
       "      <th>reviewerName</th>\n",
       "      <th>reviewText</th>\n",
       "      <th>summary</th>\n",
       "      <th>unixReviewTime</th>\n",
       "      <th>category</th>\n",
       "    </tr>\n",
       "  </thead>\n",
       "  <tbody>\n",
       "    <tr>\n",
       "      <th>0</th>\n",
       "      <td>1</td>\n",
       "      <td>False</td>\n",
       "      <td>11 12, 2016</td>\n",
       "      <td>C413C78E10E54C5DB41837889F36C1E8</td>\n",
       "      <td>565D194F38B1CC3F806EE677C61F639C</td>\n",
       "      <td>465E154EC79AFFAB5EB2607198B21433</td>\n",
       "      <td>all of the reviews for this product are fake.</td>\n",
       "      <td>All fake reviews, beware.</td>\n",
       "      <td>1478908800</td>\n",
       "      <td>automotive</td>\n",
       "    </tr>\n",
       "    <tr>\n",
       "      <th>1</th>\n",
       "      <td>1</td>\n",
       "      <td>True</td>\n",
       "      <td>12 6, 2016</td>\n",
       "      <td>490AE37808EFEE3AF4FE6DEBDEB5A4C8</td>\n",
       "      <td>0D66512A0A7F580523AB996378DF0F14</td>\n",
       "      <td>760C63E8E5E8DC3FAA01878D37BA5678</td>\n",
       "      <td>wrong part. our fault.</td>\n",
       "      <td>One Star</td>\n",
       "      <td>1480982400</td>\n",
       "      <td>automotive</td>\n",
       "    </tr>\n",
       "    <tr>\n",
       "      <th>2</th>\n",
       "      <td>1</td>\n",
       "      <td>True</td>\n",
       "      <td>09 17, 2014</td>\n",
       "      <td>74A9FA5A64449BEE2A2E8E3F62872F0F</td>\n",
       "      <td>A0E45600FF2C5A779CB4314F379C253A</td>\n",
       "      <td>C6E4DD5C1C4EC09E90182644ED6CA9EF</td>\n",
       "      <td>this wire set it really sucks!!!</td>\n",
       "      <td>One Star</td>\n",
       "      <td>1410912000</td>\n",
       "      <td>automotive</td>\n",
       "    </tr>\n",
       "    <tr>\n",
       "      <th>3</th>\n",
       "      <td>1</td>\n",
       "      <td>True</td>\n",
       "      <td>06 11, 2016</td>\n",
       "      <td>EB561158A2829D98B467FE03CC1E45F1</td>\n",
       "      <td>37AB9A82470595E0ACB88BAC48C150EE</td>\n",
       "      <td>F4892A77EA45C52F40AB17ED537EF9FF</td>\n",
       "      <td>first use, it leaked instantly. even at 5 buck...</td>\n",
       "      <td>One Star</td>\n",
       "      <td>1465603200</td>\n",
       "      <td>automotive</td>\n",
       "    </tr>\n",
       "    <tr>\n",
       "      <th>4</th>\n",
       "      <td>1</td>\n",
       "      <td>True</td>\n",
       "      <td>12 23, 2017</td>\n",
       "      <td>5045D801332850D21618DD13A697CD9B</td>\n",
       "      <td>5772FF30428EEB8E0258C1A53CA2EC50</td>\n",
       "      <td>522F0BBFF2B47F1D63FF781A0AB1D079</td>\n",
       "      <td>didn't fit</td>\n",
       "      <td>One Star</td>\n",
       "      <td>1513987200</td>\n",
       "      <td>automotive</td>\n",
       "    </tr>\n",
       "  </tbody>\n",
       "</table>\n",
       "</div>"
      ],
      "text/plain": [
       "   overall  verified   reviewTime                        reviewerID  \\\n",
       "0        1     False  11 12, 2016  C413C78E10E54C5DB41837889F36C1E8   \n",
       "1        1      True   12 6, 2016  490AE37808EFEE3AF4FE6DEBDEB5A4C8   \n",
       "2        1      True  09 17, 2014  74A9FA5A64449BEE2A2E8E3F62872F0F   \n",
       "3        1      True  06 11, 2016  EB561158A2829D98B467FE03CC1E45F1   \n",
       "4        1      True  12 23, 2017  5045D801332850D21618DD13A697CD9B   \n",
       "\n",
       "                               asin                      reviewerName  \\\n",
       "0  565D194F38B1CC3F806EE677C61F639C  465E154EC79AFFAB5EB2607198B21433   \n",
       "1  0D66512A0A7F580523AB996378DF0F14  760C63E8E5E8DC3FAA01878D37BA5678   \n",
       "2  A0E45600FF2C5A779CB4314F379C253A  C6E4DD5C1C4EC09E90182644ED6CA9EF   \n",
       "3  37AB9A82470595E0ACB88BAC48C150EE  F4892A77EA45C52F40AB17ED537EF9FF   \n",
       "4  5772FF30428EEB8E0258C1A53CA2EC50  522F0BBFF2B47F1D63FF781A0AB1D079   \n",
       "\n",
       "                                          reviewText  \\\n",
       "0      all of the reviews for this product are fake.   \n",
       "1                             wrong part. our fault.   \n",
       "2                   this wire set it really sucks!!!   \n",
       "3  first use, it leaked instantly. even at 5 buck...   \n",
       "4                                         didn't fit   \n",
       "\n",
       "                     summary  unixReviewTime    category  \n",
       "0  All fake reviews, beware.      1478908800  automotive  \n",
       "1                   One Star      1480982400  automotive  \n",
       "2                   One Star      1410912000  automotive  \n",
       "3                   One Star      1465603200  automotive  \n",
       "4                   One Star      1513987200  automotive  "
      ]
     },
     "execution_count": 6,
     "metadata": {},
     "output_type": "execute_result"
    }
   ],
   "source": [
    "train_df = train_df.drop('vote', axis=1)\n",
    "train_df = train_df.drop('image', axis=1)\n",
    "train_df = train_df.drop('style', axis=1)\n",
    "\n",
    "train_df.head(5)"
   ]
  },
  {
   "cell_type": "code",
   "execution_count": 7,
   "id": "2ca56516",
   "metadata": {},
   "outputs": [
    {
     "name": "stdout",
     "output_type": "stream",
     "text": [
      "<class 'pandas.core.frame.DataFrame'>\n",
      "RangeIndex: 29189 entries, 0 to 29188\n",
      "Data columns (total 10 columns):\n",
      " #   Column          Non-Null Count  Dtype \n",
      "---  ------          --------------  ----- \n",
      " 0   overall         29189 non-null  int64 \n",
      " 1   verified        29189 non-null  bool  \n",
      " 2   reviewTime      29189 non-null  object\n",
      " 3   reviewerID      29189 non-null  object\n",
      " 4   asin            29189 non-null  object\n",
      " 5   reviewerName    29185 non-null  object\n",
      " 6   reviewText      29189 non-null  object\n",
      " 7   summary         29184 non-null  object\n",
      " 8   unixReviewTime  29189 non-null  int64 \n",
      " 9   category        29189 non-null  object\n",
      "dtypes: bool(1), int64(2), object(7)\n",
      "memory usage: 2.0+ MB\n"
     ]
    }
   ],
   "source": [
    "train_df.info()"
   ]
  },
  {
   "cell_type": "markdown",
   "id": "bd00c77f",
   "metadata": {},
   "source": [
    "## Data Processing\n",
    "\n",
    "1. The **overall** column is our target variable and it contains numbers from 1 to 5, so based on certain thresholds we will create a new column and put in values like Good, Bad, etc for binary classification.\n",
    "2. We will then apply some basic NLP techniques in **reviewText** column to get important features."
   ]
  },
  {
   "cell_type": "code",
   "execution_count": 8,
   "id": "04c9d7c4",
   "metadata": {
    "scrolled": false
   },
   "outputs": [
    {
     "data": {
      "text/html": [
       "<div>\n",
       "<style scoped>\n",
       "    .dataframe tbody tr th:only-of-type {\n",
       "        vertical-align: middle;\n",
       "    }\n",
       "\n",
       "    .dataframe tbody tr th {\n",
       "        vertical-align: top;\n",
       "    }\n",
       "\n",
       "    .dataframe thead th {\n",
       "        text-align: right;\n",
       "    }\n",
       "</style>\n",
       "<table border=\"1\" class=\"dataframe\">\n",
       "  <thead>\n",
       "    <tr style=\"text-align: right;\">\n",
       "      <th></th>\n",
       "      <th>overall</th>\n",
       "      <th>verified</th>\n",
       "      <th>reviewTime</th>\n",
       "      <th>reviewerID</th>\n",
       "      <th>asin</th>\n",
       "      <th>reviewerName</th>\n",
       "      <th>reviewText</th>\n",
       "      <th>summary</th>\n",
       "      <th>unixReviewTime</th>\n",
       "      <th>category</th>\n",
       "      <th>productReview</th>\n",
       "    </tr>\n",
       "  </thead>\n",
       "  <tbody>\n",
       "    <tr>\n",
       "      <th>0</th>\n",
       "      <td>1</td>\n",
       "      <td>False</td>\n",
       "      <td>11 12, 2016</td>\n",
       "      <td>C413C78E10E54C5DB41837889F36C1E8</td>\n",
       "      <td>565D194F38B1CC3F806EE677C61F639C</td>\n",
       "      <td>465E154EC79AFFAB5EB2607198B21433</td>\n",
       "      <td>all of the reviews for this product are fake.</td>\n",
       "      <td>All fake reviews, beware.</td>\n",
       "      <td>1478908800</td>\n",
       "      <td>automotive</td>\n",
       "      <td>0</td>\n",
       "    </tr>\n",
       "    <tr>\n",
       "      <th>1</th>\n",
       "      <td>1</td>\n",
       "      <td>True</td>\n",
       "      <td>12 6, 2016</td>\n",
       "      <td>490AE37808EFEE3AF4FE6DEBDEB5A4C8</td>\n",
       "      <td>0D66512A0A7F580523AB996378DF0F14</td>\n",
       "      <td>760C63E8E5E8DC3FAA01878D37BA5678</td>\n",
       "      <td>wrong part. our fault.</td>\n",
       "      <td>One Star</td>\n",
       "      <td>1480982400</td>\n",
       "      <td>automotive</td>\n",
       "      <td>0</td>\n",
       "    </tr>\n",
       "    <tr>\n",
       "      <th>2</th>\n",
       "      <td>1</td>\n",
       "      <td>True</td>\n",
       "      <td>09 17, 2014</td>\n",
       "      <td>74A9FA5A64449BEE2A2E8E3F62872F0F</td>\n",
       "      <td>A0E45600FF2C5A779CB4314F379C253A</td>\n",
       "      <td>C6E4DD5C1C4EC09E90182644ED6CA9EF</td>\n",
       "      <td>this wire set it really sucks!!!</td>\n",
       "      <td>One Star</td>\n",
       "      <td>1410912000</td>\n",
       "      <td>automotive</td>\n",
       "      <td>0</td>\n",
       "    </tr>\n",
       "    <tr>\n",
       "      <th>3</th>\n",
       "      <td>1</td>\n",
       "      <td>True</td>\n",
       "      <td>06 11, 2016</td>\n",
       "      <td>EB561158A2829D98B467FE03CC1E45F1</td>\n",
       "      <td>37AB9A82470595E0ACB88BAC48C150EE</td>\n",
       "      <td>F4892A77EA45C52F40AB17ED537EF9FF</td>\n",
       "      <td>first use, it leaked instantly. even at 5 buck...</td>\n",
       "      <td>One Star</td>\n",
       "      <td>1465603200</td>\n",
       "      <td>automotive</td>\n",
       "      <td>0</td>\n",
       "    </tr>\n",
       "    <tr>\n",
       "      <th>4</th>\n",
       "      <td>1</td>\n",
       "      <td>True</td>\n",
       "      <td>12 23, 2017</td>\n",
       "      <td>5045D801332850D21618DD13A697CD9B</td>\n",
       "      <td>5772FF30428EEB8E0258C1A53CA2EC50</td>\n",
       "      <td>522F0BBFF2B47F1D63FF781A0AB1D079</td>\n",
       "      <td>didn't fit</td>\n",
       "      <td>One Star</td>\n",
       "      <td>1513987200</td>\n",
       "      <td>automotive</td>\n",
       "      <td>0</td>\n",
       "    </tr>\n",
       "  </tbody>\n",
       "</table>\n",
       "</div>"
      ],
      "text/plain": [
       "   overall  verified   reviewTime                        reviewerID  \\\n",
       "0        1     False  11 12, 2016  C413C78E10E54C5DB41837889F36C1E8   \n",
       "1        1      True   12 6, 2016  490AE37808EFEE3AF4FE6DEBDEB5A4C8   \n",
       "2        1      True  09 17, 2014  74A9FA5A64449BEE2A2E8E3F62872F0F   \n",
       "3        1      True  06 11, 2016  EB561158A2829D98B467FE03CC1E45F1   \n",
       "4        1      True  12 23, 2017  5045D801332850D21618DD13A697CD9B   \n",
       "\n",
       "                               asin                      reviewerName  \\\n",
       "0  565D194F38B1CC3F806EE677C61F639C  465E154EC79AFFAB5EB2607198B21433   \n",
       "1  0D66512A0A7F580523AB996378DF0F14  760C63E8E5E8DC3FAA01878D37BA5678   \n",
       "2  A0E45600FF2C5A779CB4314F379C253A  C6E4DD5C1C4EC09E90182644ED6CA9EF   \n",
       "3  37AB9A82470595E0ACB88BAC48C150EE  F4892A77EA45C52F40AB17ED537EF9FF   \n",
       "4  5772FF30428EEB8E0258C1A53CA2EC50  522F0BBFF2B47F1D63FF781A0AB1D079   \n",
       "\n",
       "                                          reviewText  \\\n",
       "0      all of the reviews for this product are fake.   \n",
       "1                             wrong part. our fault.   \n",
       "2                   this wire set it really sucks!!!   \n",
       "3  first use, it leaked instantly. even at 5 buck...   \n",
       "4                                         didn't fit   \n",
       "\n",
       "                     summary  unixReviewTime    category  productReview  \n",
       "0  All fake reviews, beware.      1478908800  automotive              0  \n",
       "1                   One Star      1480982400  automotive              0  \n",
       "2                   One Star      1410912000  automotive              0  \n",
       "3                   One Star      1465603200  automotive              0  \n",
       "4                   One Star      1513987200  automotive              0  "
      ]
     },
     "execution_count": 8,
     "metadata": {},
     "output_type": "execute_result"
    }
   ],
   "source": [
    "train_df['productReview'] = train_df['overall'].apply(lambda z: 0 if z <=2 else 1)\n",
    "train_df.head(5)"
   ]
  },
  {
   "cell_type": "code",
   "execution_count": 9,
   "id": "b1bd8be0",
   "metadata": {},
   "outputs": [],
   "source": [
    "train_df = train_df.dropna()"
   ]
  },
  {
   "cell_type": "markdown",
   "id": "1d03b091",
   "metadata": {},
   "source": [
    "## Checking Class Distribution\n",
    "\n",
    "We will explore the class distribution of **productReview** column to see whether the dataset is imbalanced or not, based on this we will apply the cross-validation techniques."
   ]
  },
  {
   "cell_type": "code",
   "execution_count": 10,
   "id": "b0f04a58",
   "metadata": {},
   "outputs": [
    {
     "data": {
      "image/png": "[encoded data removed]",
      "text/plain": [
       "<Figure size 640x480 with 1 Axes>"
      ]
     },
     "metadata": {},
     "output_type": "display_data"
    }
   ],
   "source": [
    "binary_labels = train_df['productReview'].value_counts()\n",
    "\n",
    "binary_labels.plot.bar()\n",
    "plt.show()"
   ]
  },
  {
   "cell_type": "code",
   "execution_count": 11,
   "id": "ced3c0bb",
   "metadata": {},
   "outputs": [
    {
     "data": {
      "text/plain": [
       "0.689830901088719"
      ]
     },
     "execution_count": 11,
     "metadata": {},
     "output_type": "execute_result"
    }
   ],
   "source": [
    "binary_labels[0]/binary_labels[1]"
   ]
  },
  {
   "cell_type": "markdown",
   "id": "89c820fc",
   "metadata": {},
   "source": [
    "There seems to be a moderate imbalance in the dataset, in that for every 68 samples observed in label 0 there were 100 samples in label 1"
   ]
  },
  {
   "cell_type": "code",
   "execution_count": 12,
   "id": "4beb2157",
   "metadata": {},
   "outputs": [],
   "source": [
    "## preprocess the dataset\n",
    "\n",
    "def preprocessing(t):\n",
    "    t = t.lower()\n",
    "    \n",
    "    #removing punctuations\n",
    "    t = t.translate(str.maketrans('','',string.punctuation))\n",
    "    \n",
    "    #removing digits\n",
    "    t = re.sub(r'\\d','', t)\n",
    "    \n",
    "    #removing whitespaces\n",
    "    t = t.strip()\n",
    "    \n",
    "    return t\n",
    "\n",
    "train_df['reviewText'] = train_df['reviewText'].apply(preprocessing)"
   ]
  },
  {
   "cell_type": "code",
   "execution_count": 13,
   "id": "148083cc",
   "metadata": {},
   "outputs": [
    {
     "data": {
      "text/plain": [
       "0             all of the reviews for this product are fake\n",
       "1                                     wrong part our fault\n",
       "2                            this wire set it really sucks\n",
       "3        first use it leaked instantly even at  bucks i...\n",
       "4                                                didnt fit\n",
       "                               ...                        \n",
       "29184    this is the same plush toy that the official d...\n",
       "29185    my grandson loved this it is a great toy he pl...\n",
       "29186    my kiddo loves them we are a rock climbing fam...\n",
       "29187    i bought this for my niece age  and mailed it ...\n",
       "29188    my daughter will love this shes a huge ninja t...\n",
       "Name: reviewText, Length: 29180, dtype: object"
      ]
     },
     "execution_count": 13,
     "metadata": {},
     "output_type": "execute_result"
    }
   ],
   "source": [
    "train_df['reviewText']"
   ]
  },
  {
   "cell_type": "code",
   "execution_count": 14,
   "id": "4cfb53af",
   "metadata": {},
   "outputs": [],
   "source": [
    "stop_words = ['a', 'an', 'the', 'and', 'but', 'or', 'if', 'because', 'as', 'at', \n",
    "              'by', 'for', 'from', 'in', 'into', 'of', 'off', 'on', \n",
    "              'onto', 'out', 'over', 'to', 'up', 'with']"
   ]
  },
  {
   "cell_type": "code",
   "execution_count": 15,
   "id": "c2248e57",
   "metadata": {},
   "outputs": [],
   "source": [
    "train_df['reviewText'] = train_df['reviewText'].apply(lambda x: ' '.join([word for word in x.split() if word not in stop_words]))"
   ]
  },
  {
   "cell_type": "markdown",
   "id": "12021504",
   "metadata": {},
   "source": [
    "# Binary Classification"
   ]
  },
  {
   "cell_type": "code",
   "execution_count": 16,
   "id": "5097dea6",
   "metadata": {},
   "outputs": [],
   "source": [
    "from sklearn.model_selection import cross_validate, cross_val_score, cross_val_predict, StratifiedKFold, GridSearchCV, train_test_split\n",
    "from sklearn.feature_extraction.text import TfidfVectorizer, CountVectorizer\n",
    "from sklearn.pipeline import Pipeline\n",
    "from sklearn.linear_model import LogisticRegression\n",
    "from sklearn.metrics import accuracy_score, classification_report, confusion_matrix, roc_auc_score, roc_curve\n",
    "\n",
    "x = train_df['reviewText']\n",
    "y = train_df['productReview']\n",
    "\n",
    "tfidf = TfidfVectorizer()\n",
    "# counts = CountVectorizer(lowercase=True, stop_words = 'english')\n",
    "\n",
    "# x_transformed = tfidf.fit_transform(x)\n",
    "\n",
    "\n",
    "# x_transformed = cv.fit_transform(x)\n",
    "\n",
    "x_transformed = tfidf.fit_transform(x)"
   ]
  },
  {
   "cell_type": "markdown",
   "id": "903a1076",
   "metadata": {},
   "source": [
    "## Logistic Regression"
   ]
  },
  {
   "cell_type": "code",
   "execution_count": 17,
   "id": "d0cde46c",
   "metadata": {},
   "outputs": [],
   "source": [
    "xtrain, xval, ytrain, yval = train_test_split(x_transformed, y, test_size=0.2, random_state=0)"
   ]
  },
  {
   "cell_type": "code",
   "execution_count": 18,
   "id": "eade0f92",
   "metadata": {
    "scrolled": false
   },
   "outputs": [
    {
     "data": {
      "text/plain": [
       "GridSearchCV(cv=5, estimator=LogisticRegression(),\n",
       "             param_grid={'C': [0.2, 0.4, 0.6, 0.8, 1],\n",
       "                         'class_weight': ['balanced'],\n",
       "                         'penalty': ['l1', 'l2']},\n",
       "             scoring='f1_macro')"
      ]
     },
     "execution_count": 18,
     "metadata": {},
     "output_type": "execute_result"
    }
   ],
   "source": [
    "# Model 1\n",
    "lr_params = {'C':[0.2,0.4,0.6,0.8,1], 'class_weight':['balanced'], 'penalty':['l1','l2']}\n",
    "lr = LogisticRegression()\n",
    "grid_lr_model = GridSearchCV(lr, lr_params,cv=5, scoring=\"f1_macro\")\n",
    "grid_lr_model.fit(x_transformed,y)"
   ]
  },
  {
   "cell_type": "code",
   "execution_count": 19,
   "id": "53c9edf5",
   "metadata": {},
   "outputs": [
    {
     "name": "stdout",
     "output_type": "stream",
     "text": [
      "Best Score : 0.7624165591349173\n",
      "Best Parameter : {'C': 0.6, 'class_weight': 'balanced', 'penalty': 'l2'}\n"
     ]
    }
   ],
   "source": [
    "# scores = cross_val_score(model, x_transformed, y, cv=5, error_score='raise')\n",
    "# scores.mean()\n",
    "\n",
    "print('Best Score : {}'.format(grid_lr_model.best_score_))\n",
    "print(\"Best Parameter : {}\".format(grid_lr_model.best_params_))"
   ]
  },
  {
   "cell_type": "code",
   "execution_count": 19,
   "id": "395047b6",
   "metadata": {},
   "outputs": [
    {
     "name": "stdout",
     "output_type": "stream",
     "text": [
      "[{'C': 0.2, 'class_weight': 'balanced', 'penalty': 'l1'}, {'C': 0.2, 'class_weight': 'balanced', 'penalty': 'l2'}, {'C': 0.4, 'class_weight': 'balanced', 'penalty': 'l1'}, {'C': 0.4, 'class_weight': 'balanced', 'penalty': 'l2'}, {'C': 0.6, 'class_weight': 'balanced', 'penalty': 'l1'}, {'C': 0.6, 'class_weight': 'balanced', 'penalty': 'l2'}, {'C': 0.8, 'class_weight': 'balanced', 'penalty': 'l1'}, {'C': 0.8, 'class_weight': 'balanced', 'penalty': 'l2'}, {'C': 1, 'class_weight': 'balanced', 'penalty': 'l1'}, {'C': 1, 'class_weight': 'balanced', 'penalty': 'l2'}]\n",
      "[       nan 0.75660203        nan 0.75993876        nan 0.76241656\n",
      "        nan 0.7621469         nan 0.76199122]\n"
     ]
    }
   ],
   "source": [
    "print(grid_lr_model.cv_results_['params'])\n",
    "print(grid_lr_model.cv_results_['mean_test_score'])"
   ]
  },
  {
   "cell_type": "code",
   "execution_count": 20,
   "id": "ebd6548c",
   "metadata": {},
   "outputs": [
    {
     "data": {
      "text/plain": [
       "LogisticRegression(C=0.6, class_weight='balanced')"
      ]
     },
     "execution_count": 20,
     "metadata": {},
     "output_type": "execute_result"
    }
   ],
   "source": [
    "lr_model = LogisticRegression(C=0.6, class_weight='balanced',penalty='l2')\n",
    "lr_model.fit(xtrain, ytrain)"
   ]
  },
  {
   "cell_type": "code",
   "execution_count": 21,
   "id": "9d209791",
   "metadata": {},
   "outputs": [
    {
     "name": "stdout",
     "output_type": "stream",
     "text": [
      "ROC AUC Score : 0.7895800797604072\n",
      "Classification Report:\n",
      "              precision    recall  f1-score   support\n",
      "\n",
      "           0       0.72      0.78      0.75      2372\n",
      "           1       0.84      0.79      0.82      3464\n",
      "\n",
      "    accuracy                           0.79      5836\n",
      "   macro avg       0.78      0.79      0.79      5836\n",
      "weighted avg       0.79      0.79      0.79      5836\n",
      "\n"
     ]
    }
   ],
   "source": [
    "ypred = lr_model.predict(xval)\n",
    "ypred_proba = lr_model.predict_proba(xval)\n",
    "\n",
    "cfr = classification_report(yval, ypred)\n",
    "auc = roc_auc_score(yval, ypred)\n",
    "\n",
    "print(\"ROC AUC Score : {}\".format(auc))\n",
    "print('Classification Report:\\n{}'.format(cfr))"
   ]
  },
  {
   "cell_type": "code",
   "execution_count": 22,
   "id": "89e1cc00",
   "metadata": {},
   "outputs": [
    {
     "data": {
      "text/plain": [
       "Text(0, 0.5, 'True Positives Rate')"
      ]
     },
     "execution_count": 22,
     "metadata": {},
     "output_type": "execute_result"
    },
    {
     "data": {
      "image/png": "[encoded data removed]",
      "text/plain": [
       "<Figure size 640x480 with 1 Axes>"
      ]
     },
     "metadata": {},
     "output_type": "display_data"
    }
   ],
   "source": [
    "fpr, tpr, threshold = roc_curve(yval, ypred_proba[:,1])\n",
    "plt.plot(fpr, tpr)\n",
    "plt.xlabel('False Positive Rate')\n",
    "plt.ylabel('True Positives Rate')"
   ]
  },
  {
   "cell_type": "code",
   "execution_count": 26,
   "id": "241593ed",
   "metadata": {},
   "outputs": [],
   "source": [
    "xtest = test_df['reviewText']\n",
    "xtest_transformed = tfidf.transform(xtest)"
   ]
  },
  {
   "cell_type": "code",
   "execution_count": 27,
   "id": "dea8c7fd",
   "metadata": {},
   "outputs": [
    {
     "data": {
      "text/html": [
       "<div>\n",
       "<style scoped>\n",
       "    .dataframe tbody tr th:only-of-type {\n",
       "        vertical-align: middle;\n",
       "    }\n",
       "\n",
       "    .dataframe tbody tr th {\n",
       "        vertical-align: top;\n",
       "    }\n",
       "\n",
       "    .dataframe thead th {\n",
       "        text-align: right;\n",
       "    }\n",
       "</style>\n",
       "<table border=\"1\" class=\"dataframe\">\n",
       "  <thead>\n",
       "    <tr style=\"text-align: right;\">\n",
       "      <th></th>\n",
       "      <th>id</th>\n",
       "      <th>predicted</th>\n",
       "    </tr>\n",
       "  </thead>\n",
       "  <tbody>\n",
       "    <tr>\n",
       "      <th>0</th>\n",
       "      <td>0</td>\n",
       "      <td>0</td>\n",
       "    </tr>\n",
       "    <tr>\n",
       "      <th>1</th>\n",
       "      <td>1</td>\n",
       "      <td>0</td>\n",
       "    </tr>\n",
       "    <tr>\n",
       "      <th>2</th>\n",
       "      <td>2</td>\n",
       "      <td>0</td>\n",
       "    </tr>\n",
       "    <tr>\n",
       "      <th>3</th>\n",
       "      <td>3</td>\n",
       "      <td>0</td>\n",
       "    </tr>\n",
       "    <tr>\n",
       "      <th>4</th>\n",
       "      <td>4</td>\n",
       "      <td>0</td>\n",
       "    </tr>\n",
       "  </tbody>\n",
       "</table>\n",
       "</div>"
      ],
      "text/plain": [
       "   id  predicted\n",
       "0   0          0\n",
       "1   1          0\n",
       "2   2          0\n",
       "3   3          0\n",
       "4   4          0"
      ]
     },
     "execution_count": 27,
     "metadata": {},
     "output_type": "execute_result"
    }
   ],
   "source": [
    "preds = lr_model.predict(xtest_transformed)\n",
    "\n",
    "test_ids = list(test_df.index)\n",
    "\n",
    "subdf = pd.DataFrame({'id':test_ids, 'predicted':preds})\n",
    "subdf.head(5)"
   ]
  },
  {
   "cell_type": "code",
   "execution_count": 28,
   "id": "1986cd02",
   "metadata": {},
   "outputs": [],
   "source": [
    "subdf.to_csv('/Users/Lenovo/Desktop/Education/Winter term/COSC-274/logistic_regression_preds_baseline2.csv', index=False)"
   ]
  },
  {
   "cell_type": "markdown",
   "id": "00ca3bf8",
   "metadata": {},
   "source": [
    "## Decision Tree"
   ]
  },
  {
   "cell_type": "code",
   "execution_count": 21,
   "id": "e9a1f86b",
   "metadata": {},
   "outputs": [],
   "source": [
    "from sklearn.tree import DecisionTreeClassifier\n",
    "\n",
    "dtc = DecisionTreeClassifier()"
   ]
  },
  {
   "cell_type": "code",
   "execution_count": 22,
   "id": "57c101df",
   "metadata": {},
   "outputs": [
    {
     "data": {
      "text/plain": [
       "GridSearchCV(cv=5, estimator=DecisionTreeClassifier(),\n",
       "             param_grid={'class_weight': ['balanced'], 'criterion': ['gini'],\n",
       "                         'max_depth': [None, 2, 4]},\n",
       "             scoring='f1_macro')"
      ]
     },
     "execution_count": 22,
     "metadata": {},
     "output_type": "execute_result"
    }
   ],
   "source": [
    "dtc_params = {'criterion':['gini'], 'class_weight':['balanced'], 'max_depth':[None,2,4]}\n",
    "\n",
    "grid_dtc_model = GridSearchCV(dtc, dtc_params,cv=5, scoring=\"f1_macro\")\n",
    "grid_dtc_model.fit(x_transformed,y)"
   ]
  },
  {
   "cell_type": "code",
   "execution_count": 23,
   "id": "d6f59e53",
   "metadata": {},
   "outputs": [
    {
     "name": "stdout",
     "output_type": "stream",
     "text": [
      "Best Score : 0.6548506976335741\n",
      "Best Parameter : {'class_weight': 'balanced', 'criterion': 'gini', 'max_depth': None}\n"
     ]
    }
   ],
   "source": [
    "print('Best Score : {}'.format(grid_dtc_model.best_score_))\n",
    "print(\"Best Parameter : {}\".format(grid_dtc_model.best_params_))"
   ]
  },
  {
   "cell_type": "code",
   "execution_count": 25,
   "id": "0409f900",
   "metadata": {},
   "outputs": [
    {
     "name": "stdout",
     "output_type": "stream",
     "text": [
      "\n",
      " [{'class_weight': 'balanced', 'criterion': 'gini', 'max_depth': None}, {'class_weight': 'balanced', 'criterion': 'gini', 'max_depth': 2}, {'class_weight': 'balanced', 'criterion': 'gini', 'max_depth': 4}]\n",
      "\n",
      " [0.6548507  0.58718441 0.57564601]\n"
     ]
    }
   ],
   "source": [
    "print(\"\\n\",grid_dtc_model.cv_results_['params'])\n",
    "print(\"\\n\",grid_dtc_model.cv_results_['mean_test_score'])"
   ]
  },
  {
   "cell_type": "code",
   "execution_count": 34,
   "id": "693755c0",
   "metadata": {},
   "outputs": [
    {
     "name": "stdout",
     "output_type": "stream",
     "text": [
      "ROC AUC Score : 0.6634540676639314\n",
      "Classification Report:\n",
      "              precision    recall  f1-score   support\n",
      "\n",
      "           0       0.60      0.60      0.60      2372\n",
      "           1       0.73      0.72      0.73      3464\n",
      "\n",
      "    accuracy                           0.67      5836\n",
      "   macro avg       0.66      0.66      0.66      5836\n",
      "weighted avg       0.68      0.67      0.68      5836\n",
      "\n"
     ]
    }
   ],
   "source": [
    "dtc_model = DecisionTreeClassifier(criterion='gini', class_weight='balanced', max_depth=None)\n",
    "dtc_model.fit(xtrain, ytrain)\n",
    "\n",
    "ypred = dtc_model.predict(xval)\n",
    "ypred_proba = dtc_model.predict_proba(xval)\n",
    "\n",
    "cfr = classification_report(yval, ypred)\n",
    "auc = roc_auc_score(yval, ypred)\n",
    "\n",
    "print(\"ROC AUC Score : {}\".format(auc))\n",
    "print('Classification Report:\\n{}'.format(cfr))"
   ]
  },
  {
   "cell_type": "code",
   "execution_count": 35,
   "id": "29a68a47",
   "metadata": {},
   "outputs": [
    {
     "data": {
      "text/plain": [
       "Text(0, 0.5, 'True Positives Rate')"
      ]
     },
     "execution_count": 35,
     "metadata": {},
     "output_type": "execute_result"
    },
    {
     "data": {
      "image/png": "[encoded data removed]",
      "text/plain": [
       "<Figure size 640x480 with 1 Axes>"
      ]
     },
     "metadata": {},
     "output_type": "display_data"
    }
   ],
   "source": [
    "fpr, tpr, threshold = roc_curve(yval, ypred_proba[:,1])\n",
    "plt.plot(fpr, tpr)\n",
    "plt.xlabel('False Positive Rate')\n",
    "plt.ylabel('True Positives Rate')"
   ]
  },
  {
   "cell_type": "code",
   "execution_count": 37,
   "id": "94679102",
   "metadata": {},
   "outputs": [],
   "source": [
    "xtest = test_df['reviewText']\n",
    "xtest_transformed = tfidf.transform(xtest)"
   ]
  },
  {
   "cell_type": "code",
   "execution_count": 38,
   "id": "d466e45a",
   "metadata": {},
   "outputs": [
    {
     "data": {
      "text/html": [
       "<div>\n",
       "<style scoped>\n",
       "    .dataframe tbody tr th:only-of-type {\n",
       "        vertical-align: middle;\n",
       "    }\n",
       "\n",
       "    .dataframe tbody tr th {\n",
       "        vertical-align: top;\n",
       "    }\n",
       "\n",
       "    .dataframe thead th {\n",
       "        text-align: right;\n",
       "    }\n",
       "</style>\n",
       "<table border=\"1\" class=\"dataframe\">\n",
       "  <thead>\n",
       "    <tr style=\"text-align: right;\">\n",
       "      <th></th>\n",
       "      <th>id</th>\n",
       "      <th>predicted</th>\n",
       "    </tr>\n",
       "  </thead>\n",
       "  <tbody>\n",
       "    <tr>\n",
       "      <th>0</th>\n",
       "      <td>0</td>\n",
       "      <td>1</td>\n",
       "    </tr>\n",
       "    <tr>\n",
       "      <th>1</th>\n",
       "      <td>1</td>\n",
       "      <td>0</td>\n",
       "    </tr>\n",
       "    <tr>\n",
       "      <th>2</th>\n",
       "      <td>2</td>\n",
       "      <td>0</td>\n",
       "    </tr>\n",
       "    <tr>\n",
       "      <th>3</th>\n",
       "      <td>3</td>\n",
       "      <td>0</td>\n",
       "    </tr>\n",
       "    <tr>\n",
       "      <th>4</th>\n",
       "      <td>4</td>\n",
       "      <td>0</td>\n",
       "    </tr>\n",
       "  </tbody>\n",
       "</table>\n",
       "</div>"
      ],
      "text/plain": [
       "   id  predicted\n",
       "0   0          1\n",
       "1   1          0\n",
       "2   2          0\n",
       "3   3          0\n",
       "4   4          0"
      ]
     },
     "execution_count": 38,
     "metadata": {},
     "output_type": "execute_result"
    }
   ],
   "source": [
    "preds = grid_dtc_model.predict(xtest_transformed)\n",
    "\n",
    "test_ids = list(test_df.index)\n",
    "\n",
    "subdf = pd.DataFrame({'id':test_ids, 'predicted':preds})\n",
    "subdf.head(5)"
   ]
  },
  {
   "cell_type": "code",
   "execution_count": 80,
   "id": "b0ee8b12",
   "metadata": {},
   "outputs": [],
   "source": [
    "subdf.to_csv('/Users/Lenovo/Desktop/Education/Winter term/COSC-274/decision_tree_baseline2.csv', index=False)"
   ]
  },
  {
   "cell_type": "markdown",
   "id": "5d91027d",
   "metadata": {},
   "source": [
    "## Random Forest"
   ]
  },
  {
   "cell_type": "code",
   "execution_count": 26,
   "id": "7370c9fd",
   "metadata": {},
   "outputs": [
    {
     "data": {
      "text/plain": [
       "GridSearchCV(cv=5, estimator=RandomForestClassifier(class_weight='balanced'),\n",
       "             param_grid={'bootstrap': [True], 'max_depth': [13],\n",
       "                         'max_features': [12, 12.1, 12.2],\n",
       "                         'min_samples_leaf': [3],\n",
       "                         'min_samples_split': [10, 11, 12],\n",
       "                         'n_estimators': [705, 706, 707]},\n",
       "             scoring='f1_macro')"
      ]
     },
     "execution_count": 26,
     "metadata": {},
     "output_type": "execute_result"
    }
   ],
   "source": [
    "from sklearn.ensemble import RandomForestClassifier\n",
    "\n",
    "rfc = RandomForestClassifier(class_weight='balanced')\n",
    "\n",
    "param_dist = {\"n_estimators\": [705,706,707],\n",
    "              \"max_depth\": [13],\n",
    "              \"max_features\": [12,12.1,12.2],\n",
    "              \"min_samples_split\": [10,11,12],\n",
    "              \"min_samples_leaf\": [3],\n",
    "              \"bootstrap\": [True]}\n",
    "\n",
    "random_rf_model = GridSearchCV(rfc, param_dist, cv=5, scoring=\"f1_macro\")\n",
    "random_rf_model.fit(x_transformed,y)"
   ]
  },
  {
   "cell_type": "code",
   "execution_count": 27,
   "id": "48e24091",
   "metadata": {},
   "outputs": [
    {
     "name": "stdout",
     "output_type": "stream",
     "text": [
      "Best Score : 0.6887486796030549\n",
      "Best Parameter : {'bootstrap': True, 'max_depth': 13, 'max_features': 12, 'min_samples_leaf': 3, 'min_samples_split': 12, 'n_estimators': 706}\n"
     ]
    }
   ],
   "source": [
    "print('Best Score : {}'.format(random_rf_model.best_score_))\n",
    "print(\"Best Parameter : {}\".format(random_rf_model.best_params_))"
   ]
  },
  {
   "cell_type": "code",
   "execution_count": 28,
   "id": "945b662c",
   "metadata": {},
   "outputs": [
    {
     "name": "stdout",
     "output_type": "stream",
     "text": [
      "\n",
      " [{'bootstrap': True, 'max_depth': 13, 'max_features': 12, 'min_samples_leaf': 3, 'min_samples_split': 10, 'n_estimators': 705}, {'bootstrap': True, 'max_depth': 13, 'max_features': 12, 'min_samples_leaf': 3, 'min_samples_split': 10, 'n_estimators': 706}, {'bootstrap': True, 'max_depth': 13, 'max_features': 12, 'min_samples_leaf': 3, 'min_samples_split': 10, 'n_estimators': 707}, {'bootstrap': True, 'max_depth': 13, 'max_features': 12, 'min_samples_leaf': 3, 'min_samples_split': 11, 'n_estimators': 705}, {'bootstrap': True, 'max_depth': 13, 'max_features': 12, 'min_samples_leaf': 3, 'min_samples_split': 11, 'n_estimators': 706}, {'bootstrap': True, 'max_depth': 13, 'max_features': 12, 'min_samples_leaf': 3, 'min_samples_split': 11, 'n_estimators': 707}, {'bootstrap': True, 'max_depth': 13, 'max_features': 12, 'min_samples_leaf': 3, 'min_samples_split': 12, 'n_estimators': 705}, {'bootstrap': True, 'max_depth': 13, 'max_features': 12, 'min_samples_leaf': 3, 'min_samples_split': 12, 'n_estimators': 706}, {'bootstrap': True, 'max_depth': 13, 'max_features': 12, 'min_samples_leaf': 3, 'min_samples_split': 12, 'n_estimators': 707}, {'bootstrap': True, 'max_depth': 13, 'max_features': 12.1, 'min_samples_leaf': 3, 'min_samples_split': 10, 'n_estimators': 705}, {'bootstrap': True, 'max_depth': 13, 'max_features': 12.1, 'min_samples_leaf': 3, 'min_samples_split': 10, 'n_estimators': 706}, {'bootstrap': True, 'max_depth': 13, 'max_features': 12.1, 'min_samples_leaf': 3, 'min_samples_split': 10, 'n_estimators': 707}, {'bootstrap': True, 'max_depth': 13, 'max_features': 12.1, 'min_samples_leaf': 3, 'min_samples_split': 11, 'n_estimators': 705}, {'bootstrap': True, 'max_depth': 13, 'max_features': 12.1, 'min_samples_leaf': 3, 'min_samples_split': 11, 'n_estimators': 706}, {'bootstrap': True, 'max_depth': 13, 'max_features': 12.1, 'min_samples_leaf': 3, 'min_samples_split': 11, 'n_estimators': 707}, {'bootstrap': True, 'max_depth': 13, 'max_features': 12.1, 'min_samples_leaf': 3, 'min_samples_split': 12, 'n_estimators': 705}, {'bootstrap': True, 'max_depth': 13, 'max_features': 12.1, 'min_samples_leaf': 3, 'min_samples_split': 12, 'n_estimators': 706}, {'bootstrap': True, 'max_depth': 13, 'max_features': 12.1, 'min_samples_leaf': 3, 'min_samples_split': 12, 'n_estimators': 707}, {'bootstrap': True, 'max_depth': 13, 'max_features': 12.2, 'min_samples_leaf': 3, 'min_samples_split': 10, 'n_estimators': 705}, {'bootstrap': True, 'max_depth': 13, 'max_features': 12.2, 'min_samples_leaf': 3, 'min_samples_split': 10, 'n_estimators': 706}, {'bootstrap': True, 'max_depth': 13, 'max_features': 12.2, 'min_samples_leaf': 3, 'min_samples_split': 10, 'n_estimators': 707}, {'bootstrap': True, 'max_depth': 13, 'max_features': 12.2, 'min_samples_leaf': 3, 'min_samples_split': 11, 'n_estimators': 705}, {'bootstrap': True, 'max_depth': 13, 'max_features': 12.2, 'min_samples_leaf': 3, 'min_samples_split': 11, 'n_estimators': 706}, {'bootstrap': True, 'max_depth': 13, 'max_features': 12.2, 'min_samples_leaf': 3, 'min_samples_split': 11, 'n_estimators': 707}, {'bootstrap': True, 'max_depth': 13, 'max_features': 12.2, 'min_samples_leaf': 3, 'min_samples_split': 12, 'n_estimators': 705}, {'bootstrap': True, 'max_depth': 13, 'max_features': 12.2, 'min_samples_leaf': 3, 'min_samples_split': 12, 'n_estimators': 706}, {'bootstrap': True, 'max_depth': 13, 'max_features': 12.2, 'min_samples_leaf': 3, 'min_samples_split': 12, 'n_estimators': 707}]\n",
      "\n",
      " [0.67988942 0.68005199 0.68286588 0.67975611 0.68349656 0.67815389\n",
      " 0.68117661 0.68874868 0.68704907        nan        nan        nan\n",
      "        nan        nan        nan        nan        nan        nan\n",
      "        nan        nan        nan        nan        nan        nan\n",
      "        nan        nan        nan]\n"
     ]
    }
   ],
   "source": [
    "print(\"\\n\",random_rf_model.cv_results_['params'])\n",
    "print(\"\\n\",random_rf_model.cv_results_['mean_test_score'])"
   ]
  },
  {
   "cell_type": "code",
   "execution_count": 41,
   "id": "6791ef83",
   "metadata": {},
   "outputs": [
    {
     "name": "stdout",
     "output_type": "stream",
     "text": [
      "ROC AUC Score : 0.6931062063566864\n",
      "Classification Report:\n",
      "              precision    recall  f1-score   support\n",
      "\n",
      "           0       0.65      0.61      0.63      2372\n",
      "           1       0.74      0.77      0.76      3464\n",
      "\n",
      "    accuracy                           0.71      5836\n",
      "   macro avg       0.70      0.69      0.69      5836\n",
      "weighted avg       0.71      0.71      0.71      5836\n",
      "\n"
     ]
    }
   ],
   "source": [
    "rfc_model = RandomForestClassifier(n_estimators=705, class_weight='balanced', max_depth=13, max_features=12, min_samples_leaf=3,\n",
    "                                  bootstrap=True, min_samples_split=10)\n",
    "rfc_model.fit(xtrain, ytrain)\n",
    "\n",
    "ypred = rfc_model.predict(xval)\n",
    "ypred_proba = rfc_model.predict_proba(xval)\n",
    "\n",
    "cfr = classification_report(yval, ypred)\n",
    "auc = roc_auc_score(yval, ypred)\n",
    "\n",
    "print(\"ROC AUC Score : {}\".format(auc))\n",
    "print('Classification Report:\\n{}'.format(cfr))"
   ]
  },
  {
   "cell_type": "code",
   "execution_count": 42,
   "id": "dbc26b75",
   "metadata": {},
   "outputs": [
    {
     "data": {
      "text/plain": [
       "Text(0, 0.5, 'True Positives Rate')"
      ]
     },
     "execution_count": 42,
     "metadata": {},
     "output_type": "execute_result"
    },
    {
     "data": {
      "image/png": "[encoded data removed]",
      "text/plain": [
       "<Figure size 640x480 with 1 Axes>"
      ]
     },
     "metadata": {},
     "output_type": "display_data"
    }
   ],
   "source": [
    "fpr, tpr, threshold = roc_curve(yval, ypred_proba[:,1])\n",
    "plt.plot(fpr, tpr)\n",
    "plt.xlabel('False Positive Rate')\n",
    "plt.ylabel('True Positives Rate')"
   ]
  },
  {
   "cell_type": "code",
   "execution_count": 57,
   "id": "c7706929",
   "metadata": {},
   "outputs": [],
   "source": [
    "preds = random_rf_model.predict(xtest_transformed)\n",
    "\n",
    "test_ids = list(test_df.index)\n",
    "\n",
    "subdf = pd.DataFrame({'id':test_ids, 'predicted':preds})\n",
    "\n",
    "subdf.to_csv('/Users/Lenovo/Desktop/Education/Winter term/COSC-274/rf_baseline2.csv', index=False)"
   ]
  },
  {
   "cell_type": "code",
   "execution_count": null,
   "id": "2500d1c4",
   "metadata": {},
   "outputs": [],
   "source": []
  }
 ],
 "metadata": {
  "kernelspec": {
   "display_name": "Python 3 (ipykernel)",
   "language": "python",
   "name": "python3"
  },
  "language_info": {
   "codemirror_mode": {
    "name": "ipython",
    "version": 3
   },
   "file_extension": ".py",
   "mimetype": "text/x-python",
   "name": "python",
   "nbconvert_exporter": "python",
   "pygments_lexer": "ipython3",
   "version": "3.9.13"
  }
 },
 "nbformat": 4,
 "nbformat_minor": 5
}
