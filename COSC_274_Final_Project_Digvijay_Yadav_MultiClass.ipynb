{
 "cells": [
  {
   "cell_type": "markdown",
   "id": "afceccd9",
   "metadata": {
    "id": "afceccd9"
   },
   "source": [
    "# Final Project\n",
    "\n",
    "## Loading libraries and Dataset"
   ]
  },
  {
   "cell_type": "code",
   "execution_count": 2,
   "id": "5cb1e165",
   "metadata": {
    "id": "5cb1e165"
   },
   "outputs": [],
   "source": [
    "import pandas as pd\n",
    "import sklearn\n",
    "import numpy as np\n",
    "import matplotlib.pyplot as plt\n",
    "import re, string\n",
    "import warnings\n",
    "warnings.filterwarnings('ignore')"
   ]
  },
  {
   "cell_type": "code",
   "execution_count": 3,
   "id": "349decbb",
   "metadata": {
    "colab": {
     "base_uri": "https://localhost:8080/"
    },
    "id": "349decbb",
    "outputId": "3f130ca7-e441-4042-be6e-3e1c5498ce50"
   },
   "outputs": [
    {
     "name": "stdout",
     "output_type": "stream",
     "text": [
      "(29189, 13)\n",
      "(4500, 12)\n"
     ]
    }
   ],
   "source": [
    "train_df = pd.read_csv(\"/Users/Lenovo/Desktop/Education/Winter term/COSC-274/dartmouth-cosc-74274-w23-session1-part1/training.csv\")\n",
    "\n",
    "test_df = pd.read_csv(\"/Users/Lenovo/Desktop/Education/Winter term/COSC-274/dartmouth-cosc-74274-w23-session1-part1/test.csv\")\n",
    "\n",
    "print(train_df.shape)\n",
    "print(test_df.shape)"
   ]
  },
  {
   "cell_type": "code",
   "execution_count": 4,
   "id": "744000dd",
   "metadata": {
    "colab": {
     "base_uri": "https://localhost:8080/",
     "height": 444
    },
    "id": "744000dd",
    "outputId": "6ac5acfe-b450-4a13-8050-9236c6c65772"
   },
   "outputs": [
    {
     "data": {
      "text/html": [
       "<div>\n",
       "<style scoped>\n",
       "    .dataframe tbody tr th:only-of-type {\n",
       "        vertical-align: middle;\n",
       "    }\n",
       "\n",
       "    .dataframe tbody tr th {\n",
       "        vertical-align: top;\n",
       "    }\n",
       "\n",
       "    .dataframe thead th {\n",
       "        text-align: right;\n",
       "    }\n",
       "</style>\n",
       "<table border=\"1\" class=\"dataframe\">\n",
       "  <thead>\n",
       "    <tr style=\"text-align: right;\">\n",
       "      <th></th>\n",
       "      <th>overall</th>\n",
       "      <th>verified</th>\n",
       "      <th>reviewTime</th>\n",
       "      <th>reviewerID</th>\n",
       "      <th>asin</th>\n",
       "      <th>reviewerName</th>\n",
       "      <th>reviewText</th>\n",
       "      <th>summary</th>\n",
       "      <th>unixReviewTime</th>\n",
       "      <th>vote</th>\n",
       "      <th>image</th>\n",
       "      <th>style</th>\n",
       "      <th>category</th>\n",
       "    </tr>\n",
       "  </thead>\n",
       "  <tbody>\n",
       "    <tr>\n",
       "      <th>0</th>\n",
       "      <td>1</td>\n",
       "      <td>False</td>\n",
       "      <td>11 12, 2016</td>\n",
       "      <td>C413C78E10E54C5DB41837889F36C1E8</td>\n",
       "      <td>565D194F38B1CC3F806EE677C61F639C</td>\n",
       "      <td>465E154EC79AFFAB5EB2607198B21433</td>\n",
       "      <td>all of the reviews for this product are fake.</td>\n",
       "      <td>All fake reviews, beware.</td>\n",
       "      <td>1478908800</td>\n",
       "      <td>2.0</td>\n",
       "      <td>NaN</td>\n",
       "      <td>{'Size:': ' Polaris H4'}</td>\n",
       "      <td>automotive</td>\n",
       "    </tr>\n",
       "    <tr>\n",
       "      <th>1</th>\n",
       "      <td>1</td>\n",
       "      <td>True</td>\n",
       "      <td>12 6, 2016</td>\n",
       "      <td>490AE37808EFEE3AF4FE6DEBDEB5A4C8</td>\n",
       "      <td>0D66512A0A7F580523AB996378DF0F14</td>\n",
       "      <td>760C63E8E5E8DC3FAA01878D37BA5678</td>\n",
       "      <td>wrong part. our fault.</td>\n",
       "      <td>One Star</td>\n",
       "      <td>1480982400</td>\n",
       "      <td>NaN</td>\n",
       "      <td>NaN</td>\n",
       "      <td>NaN</td>\n",
       "      <td>automotive</td>\n",
       "    </tr>\n",
       "    <tr>\n",
       "      <th>2</th>\n",
       "      <td>1</td>\n",
       "      <td>True</td>\n",
       "      <td>09 17, 2014</td>\n",
       "      <td>74A9FA5A64449BEE2A2E8E3F62872F0F</td>\n",
       "      <td>A0E45600FF2C5A779CB4314F379C253A</td>\n",
       "      <td>C6E4DD5C1C4EC09E90182644ED6CA9EF</td>\n",
       "      <td>this wire set it really sucks!!!</td>\n",
       "      <td>One Star</td>\n",
       "      <td>1410912000</td>\n",
       "      <td>NaN</td>\n",
       "      <td>NaN</td>\n",
       "      <td>NaN</td>\n",
       "      <td>automotive</td>\n",
       "    </tr>\n",
       "    <tr>\n",
       "      <th>3</th>\n",
       "      <td>1</td>\n",
       "      <td>True</td>\n",
       "      <td>06 11, 2016</td>\n",
       "      <td>EB561158A2829D98B467FE03CC1E45F1</td>\n",
       "      <td>37AB9A82470595E0ACB88BAC48C150EE</td>\n",
       "      <td>F4892A77EA45C52F40AB17ED537EF9FF</td>\n",
       "      <td>first use, it leaked instantly. even at 5 buck...</td>\n",
       "      <td>One Star</td>\n",
       "      <td>1465603200</td>\n",
       "      <td>NaN</td>\n",
       "      <td>NaN</td>\n",
       "      <td>{'Color:': ' Clear', 'Style:': ' 45 Degree'}</td>\n",
       "      <td>automotive</td>\n",
       "    </tr>\n",
       "    <tr>\n",
       "      <th>4</th>\n",
       "      <td>1</td>\n",
       "      <td>True</td>\n",
       "      <td>12 23, 2017</td>\n",
       "      <td>5045D801332850D21618DD13A697CD9B</td>\n",
       "      <td>5772FF30428EEB8E0258C1A53CA2EC50</td>\n",
       "      <td>522F0BBFF2B47F1D63FF781A0AB1D079</td>\n",
       "      <td>didn't fit</td>\n",
       "      <td>One Star</td>\n",
       "      <td>1513987200</td>\n",
       "      <td>NaN</td>\n",
       "      <td>NaN</td>\n",
       "      <td>NaN</td>\n",
       "      <td>automotive</td>\n",
       "    </tr>\n",
       "  </tbody>\n",
       "</table>\n",
       "</div>"
      ],
      "text/plain": [
       "   overall  verified   reviewTime                        reviewerID  \\\n",
       "0        1     False  11 12, 2016  C413C78E10E54C5DB41837889F36C1E8   \n",
       "1        1      True   12 6, 2016  490AE37808EFEE3AF4FE6DEBDEB5A4C8   \n",
       "2        1      True  09 17, 2014  74A9FA5A64449BEE2A2E8E3F62872F0F   \n",
       "3        1      True  06 11, 2016  EB561158A2829D98B467FE03CC1E45F1   \n",
       "4        1      True  12 23, 2017  5045D801332850D21618DD13A697CD9B   \n",
       "\n",
       "                               asin                      reviewerName  \\\n",
       "0  565D194F38B1CC3F806EE677C61F639C  465E154EC79AFFAB5EB2607198B21433   \n",
       "1  0D66512A0A7F580523AB996378DF0F14  760C63E8E5E8DC3FAA01878D37BA5678   \n",
       "2  A0E45600FF2C5A779CB4314F379C253A  C6E4DD5C1C4EC09E90182644ED6CA9EF   \n",
       "3  37AB9A82470595E0ACB88BAC48C150EE  F4892A77EA45C52F40AB17ED537EF9FF   \n",
       "4  5772FF30428EEB8E0258C1A53CA2EC50  522F0BBFF2B47F1D63FF781A0AB1D079   \n",
       "\n",
       "                                          reviewText  \\\n",
       "0      all of the reviews for this product are fake.   \n",
       "1                             wrong part. our fault.   \n",
       "2                   this wire set it really sucks!!!   \n",
       "3  first use, it leaked instantly. even at 5 buck...   \n",
       "4                                         didn't fit   \n",
       "\n",
       "                     summary  unixReviewTime  vote image  \\\n",
       "0  All fake reviews, beware.      1478908800   2.0   NaN   \n",
       "1                   One Star      1480982400   NaN   NaN   \n",
       "2                   One Star      1410912000   NaN   NaN   \n",
       "3                   One Star      1465603200   NaN   NaN   \n",
       "4                   One Star      1513987200   NaN   NaN   \n",
       "\n",
       "                                          style    category  \n",
       "0                      {'Size:': ' Polaris H4'}  automotive  \n",
       "1                                           NaN  automotive  \n",
       "2                                           NaN  automotive  \n",
       "3  {'Color:': ' Clear', 'Style:': ' 45 Degree'}  automotive  \n",
       "4                                           NaN  automotive  "
      ]
     },
     "execution_count": 4,
     "metadata": {},
     "output_type": "execute_result"
    }
   ],
   "source": [
    "train_df.head(5)"
   ]
  },
  {
   "cell_type": "markdown",
   "id": "ec2b4216",
   "metadata": {
    "id": "ec2b4216"
   },
   "source": [
    "## Check for Missing Values"
   ]
  },
  {
   "cell_type": "code",
   "execution_count": 5,
   "id": "bc96ea23",
   "metadata": {
    "colab": {
     "base_uri": "https://localhost:8080/"
    },
    "id": "bc96ea23",
    "outputId": "a399f634-0079-4e79-8263-ad00057b1d87"
   },
   "outputs": [
    {
     "data": {
      "text/plain": [
       "overall               0\n",
       "verified              0\n",
       "reviewTime            0\n",
       "reviewerID            0\n",
       "asin                  0\n",
       "reviewerName          4\n",
       "reviewText            0\n",
       "summary               5\n",
       "unixReviewTime        0\n",
       "vote              23142\n",
       "image             28589\n",
       "style             13824\n",
       "category              0\n",
       "dtype: int64"
      ]
     },
     "execution_count": 5,
     "metadata": {},
     "output_type": "execute_result"
    }
   ],
   "source": [
    "train_df.isna().sum()"
   ]
  },
  {
   "cell_type": "code",
   "execution_count": 6,
   "id": "2cdb400f",
   "metadata": {
    "colab": {
     "base_uri": "https://localhost:8080/"
    },
    "id": "2cdb400f",
    "outputId": "e66e19fc-16ce-44c3-f49d-2bddb8251f91"
   },
   "outputs": [
    {
     "name": "stdout",
     "output_type": "stream",
     "text": [
      "Missing Values in Vote : 0.792832916509644\n",
      "Missing Values in Image : 0.9794443112131282\n",
      "Missing Values in Style : 0.47360306964952553\n"
     ]
    }
   ],
   "source": [
    "na_vote = train_df['vote'].isna().sum()/len(train_df['vote'])\n",
    "image_na = train_df['image'].isna().sum()/len(train_df['image'])\n",
    "style_na = train_df['style'].isna().sum()/len(train_df['style'])\n",
    "\n",
    "print(\"Missing Values in Vote : {}\".format(na_vote))\n",
    "print(\"Missing Values in Image : {}\".format(image_na))\n",
    "print(\"Missing Values in Style : {}\".format(style_na))"
   ]
  },
  {
   "cell_type": "markdown",
   "id": "2cceda90",
   "metadata": {
    "id": "2cceda90"
   },
   "source": [
    "## Removing Unnecessary Columns"
   ]
  },
  {
   "cell_type": "code",
   "execution_count": 7,
   "id": "615eb66a",
   "metadata": {
    "colab": {
     "base_uri": "https://localhost:8080/",
     "height": 444
    },
    "id": "615eb66a",
    "outputId": "cf16fd6c-7c79-436f-d478-d3fd9e061fde"
   },
   "outputs": [
    {
     "data": {
      "text/html": [
       "<div>\n",
       "<style scoped>\n",
       "    .dataframe tbody tr th:only-of-type {\n",
       "        vertical-align: middle;\n",
       "    }\n",
       "\n",
       "    .dataframe tbody tr th {\n",
       "        vertical-align: top;\n",
       "    }\n",
       "\n",
       "    .dataframe thead th {\n",
       "        text-align: right;\n",
       "    }\n",
       "</style>\n",
       "<table border=\"1\" class=\"dataframe\">\n",
       "  <thead>\n",
       "    <tr style=\"text-align: right;\">\n",
       "      <th></th>\n",
       "      <th>overall</th>\n",
       "      <th>verified</th>\n",
       "      <th>reviewTime</th>\n",
       "      <th>reviewerID</th>\n",
       "      <th>asin</th>\n",
       "      <th>reviewerName</th>\n",
       "      <th>reviewText</th>\n",
       "      <th>summary</th>\n",
       "      <th>unixReviewTime</th>\n",
       "      <th>category</th>\n",
       "    </tr>\n",
       "  </thead>\n",
       "  <tbody>\n",
       "    <tr>\n",
       "      <th>0</th>\n",
       "      <td>1</td>\n",
       "      <td>False</td>\n",
       "      <td>11 12, 2016</td>\n",
       "      <td>C413C78E10E54C5DB41837889F36C1E8</td>\n",
       "      <td>565D194F38B1CC3F806EE677C61F639C</td>\n",
       "      <td>465E154EC79AFFAB5EB2607198B21433</td>\n",
       "      <td>all of the reviews for this product are fake.</td>\n",
       "      <td>All fake reviews, beware.</td>\n",
       "      <td>1478908800</td>\n",
       "      <td>automotive</td>\n",
       "    </tr>\n",
       "    <tr>\n",
       "      <th>1</th>\n",
       "      <td>1</td>\n",
       "      <td>True</td>\n",
       "      <td>12 6, 2016</td>\n",
       "      <td>490AE37808EFEE3AF4FE6DEBDEB5A4C8</td>\n",
       "      <td>0D66512A0A7F580523AB996378DF0F14</td>\n",
       "      <td>760C63E8E5E8DC3FAA01878D37BA5678</td>\n",
       "      <td>wrong part. our fault.</td>\n",
       "      <td>One Star</td>\n",
       "      <td>1480982400</td>\n",
       "      <td>automotive</td>\n",
       "    </tr>\n",
       "    <tr>\n",
       "      <th>2</th>\n",
       "      <td>1</td>\n",
       "      <td>True</td>\n",
       "      <td>09 17, 2014</td>\n",
       "      <td>74A9FA5A64449BEE2A2E8E3F62872F0F</td>\n",
       "      <td>A0E45600FF2C5A779CB4314F379C253A</td>\n",
       "      <td>C6E4DD5C1C4EC09E90182644ED6CA9EF</td>\n",
       "      <td>this wire set it really sucks!!!</td>\n",
       "      <td>One Star</td>\n",
       "      <td>1410912000</td>\n",
       "      <td>automotive</td>\n",
       "    </tr>\n",
       "    <tr>\n",
       "      <th>3</th>\n",
       "      <td>1</td>\n",
       "      <td>True</td>\n",
       "      <td>06 11, 2016</td>\n",
       "      <td>EB561158A2829D98B467FE03CC1E45F1</td>\n",
       "      <td>37AB9A82470595E0ACB88BAC48C150EE</td>\n",
       "      <td>F4892A77EA45C52F40AB17ED537EF9FF</td>\n",
       "      <td>first use, it leaked instantly. even at 5 buck...</td>\n",
       "      <td>One Star</td>\n",
       "      <td>1465603200</td>\n",
       "      <td>automotive</td>\n",
       "    </tr>\n",
       "    <tr>\n",
       "      <th>4</th>\n",
       "      <td>1</td>\n",
       "      <td>True</td>\n",
       "      <td>12 23, 2017</td>\n",
       "      <td>5045D801332850D21618DD13A697CD9B</td>\n",
       "      <td>5772FF30428EEB8E0258C1A53CA2EC50</td>\n",
       "      <td>522F0BBFF2B47F1D63FF781A0AB1D079</td>\n",
       "      <td>didn't fit</td>\n",
       "      <td>One Star</td>\n",
       "      <td>1513987200</td>\n",
       "      <td>automotive</td>\n",
       "    </tr>\n",
       "  </tbody>\n",
       "</table>\n",
       "</div>"
      ],
      "text/plain": [
       "   overall  verified   reviewTime                        reviewerID  \\\n",
       "0        1     False  11 12, 2016  C413C78E10E54C5DB41837889F36C1E8   \n",
       "1        1      True   12 6, 2016  490AE37808EFEE3AF4FE6DEBDEB5A4C8   \n",
       "2        1      True  09 17, 2014  74A9FA5A64449BEE2A2E8E3F62872F0F   \n",
       "3        1      True  06 11, 2016  EB561158A2829D98B467FE03CC1E45F1   \n",
       "4        1      True  12 23, 2017  5045D801332850D21618DD13A697CD9B   \n",
       "\n",
       "                               asin                      reviewerName  \\\n",
       "0  565D194F38B1CC3F806EE677C61F639C  465E154EC79AFFAB5EB2607198B21433   \n",
       "1  0D66512A0A7F580523AB996378DF0F14  760C63E8E5E8DC3FAA01878D37BA5678   \n",
       "2  A0E45600FF2C5A779CB4314F379C253A  C6E4DD5C1C4EC09E90182644ED6CA9EF   \n",
       "3  37AB9A82470595E0ACB88BAC48C150EE  F4892A77EA45C52F40AB17ED537EF9FF   \n",
       "4  5772FF30428EEB8E0258C1A53CA2EC50  522F0BBFF2B47F1D63FF781A0AB1D079   \n",
       "\n",
       "                                          reviewText  \\\n",
       "0      all of the reviews for this product are fake.   \n",
       "1                             wrong part. our fault.   \n",
       "2                   this wire set it really sucks!!!   \n",
       "3  first use, it leaked instantly. even at 5 buck...   \n",
       "4                                         didn't fit   \n",
       "\n",
       "                     summary  unixReviewTime    category  \n",
       "0  All fake reviews, beware.      1478908800  automotive  \n",
       "1                   One Star      1480982400  automotive  \n",
       "2                   One Star      1410912000  automotive  \n",
       "3                   One Star      1465603200  automotive  \n",
       "4                   One Star      1513987200  automotive  "
      ]
     },
     "execution_count": 7,
     "metadata": {},
     "output_type": "execute_result"
    }
   ],
   "source": [
    "train_df = train_df.drop('vote', axis=1)\n",
    "train_df = train_df.drop('image', axis=1)\n",
    "train_df = train_df.drop('style', axis=1)\n",
    "\n",
    "train_df.head(5)"
   ]
  },
  {
   "cell_type": "code",
   "execution_count": 8,
   "id": "2ca56516",
   "metadata": {
    "colab": {
     "base_uri": "https://localhost:8080/"
    },
    "id": "2ca56516",
    "outputId": "14cc2c78-6057-4944-d1ae-d50488a194a2"
   },
   "outputs": [
    {
     "name": "stdout",
     "output_type": "stream",
     "text": [
      "<class 'pandas.core.frame.DataFrame'>\n",
      "RangeIndex: 29189 entries, 0 to 29188\n",
      "Data columns (total 10 columns):\n",
      " #   Column          Non-Null Count  Dtype \n",
      "---  ------          --------------  ----- \n",
      " 0   overall         29189 non-null  int64 \n",
      " 1   verified        29189 non-null  bool  \n",
      " 2   reviewTime      29189 non-null  object\n",
      " 3   reviewerID      29189 non-null  object\n",
      " 4   asin            29189 non-null  object\n",
      " 5   reviewerName    29185 non-null  object\n",
      " 6   reviewText      29189 non-null  object\n",
      " 7   summary         29184 non-null  object\n",
      " 8   unixReviewTime  29189 non-null  int64 \n",
      " 9   category        29189 non-null  object\n",
      "dtypes: bool(1), int64(2), object(7)\n",
      "memory usage: 2.0+ MB\n"
     ]
    }
   ],
   "source": [
    "train_df.info()"
   ]
  },
  {
   "cell_type": "code",
   "execution_count": 9,
   "id": "b1bd8be0",
   "metadata": {
    "id": "b1bd8be0"
   },
   "outputs": [],
   "source": [
    "train_df = train_df.dropna()"
   ]
  },
  {
   "cell_type": "code",
   "execution_count": 10,
   "id": "010d44f2",
   "metadata": {
    "id": "010d44f2"
   },
   "outputs": [],
   "source": [
    "## preprocess the dataset\n",
    "\n",
    "def preprocessing(t):\n",
    "    t = t.lower()\n",
    "    \n",
    "    #removing punctuations\n",
    "    t = t.translate(str.maketrans('','',string.punctuation))\n",
    "    \n",
    "    #removing digits\n",
    "    t = re.sub(r'\\d','', t)\n",
    "    \n",
    "    #removing whitespaces\n",
    "    t = t.strip()\n",
    "    \n",
    "    return t\n",
    "\n",
    "train_df['reviewText'] = train_df['reviewText'].apply(preprocessing)"
   ]
  },
  {
   "cell_type": "code",
   "execution_count": 11,
   "id": "ba2beb27",
   "metadata": {},
   "outputs": [],
   "source": [
    "stop_words = ['a', 'an', 'the', 'and', 'but', 'or', 'if', 'because', 'as', 'at', \n",
    "              'by', 'for', 'from', 'in', 'into', 'of', 'off', 'on', \n",
    "              'onto', 'out', 'over', 'to', 'up', 'with']\n",
    "\n",
    "train_df['reviewText'] = train_df['reviewText'].apply(lambda x: ' '.join([word for word in x.split() if word not in stop_words]))"
   ]
  },
  {
   "cell_type": "markdown",
   "id": "12021504",
   "metadata": {
    "id": "12021504"
   },
   "source": [
    "# Multiclass Classification"
   ]
  },
  {
   "cell_type": "code",
   "execution_count": 12,
   "id": "5097dea6",
   "metadata": {
    "id": "5097dea6"
   },
   "outputs": [],
   "source": [
    "from sklearn.model_selection import cross_validate, cross_val_score, cross_val_predict, StratifiedKFold, GridSearchCV, RandomizedSearchCV, train_test_split\n",
    "from sklearn.feature_extraction.text import TfidfVectorizer, CountVectorizer\n",
    "from sklearn.pipeline import Pipeline\n",
    "from sklearn.linear_model import *\n",
    "from sklearn.ensemble import RandomForestClassifier\n",
    "from sklearn.metrics import accuracy_score, classification_report, confusion_matrix, roc_auc_score, roc_curve, auc\n",
    "\n",
    "x = train_df['reviewText'].values\n",
    "y = train_df['overall'].values\n",
    "\n",
    "# cv = CountVectorizer(lowercase=True, stop_words='english')\n",
    "tfidf = TfidfVectorizer(ngram_range=(1,2))\n",
    "x_transformed = tfidf.fit_transform(x)"
   ]
  },
  {
   "cell_type": "markdown",
   "id": "fd83c4be",
   "metadata": {
    "id": "fd83c4be"
   },
   "source": [
    "## MultiClass Classifier 1"
   ]
  },
  {
   "cell_type": "code",
   "execution_count": 13,
   "id": "af879559",
   "metadata": {},
   "outputs": [],
   "source": [
    "xtrain, xval, ytrain, yval = train_test_split(x_transformed, y, test_size=0.2, random_state=0)"
   ]
  },
  {
   "cell_type": "code",
   "execution_count": 14,
   "id": "eade0f92",
   "metadata": {
    "colab": {
     "base_uri": "https://localhost:8080/"
    },
    "id": "eade0f92",
    "outputId": "a22697a3-250e-4903-8e9c-1e8b98775b83",
    "scrolled": false
   },
   "outputs": [
    {
     "data": {
      "text/plain": [
       "GridSearchCV(cv=5, estimator=LogisticRegression(class_weight='balanced'),\n",
       "             param_grid={'C': [0.4, 0.6, 0.8, 1, 3, 5], 'penalty': [None, 'l2'],\n",
       "                         'solver': ['lbfgs', 'liblinear', 'sag']},\n",
       "             scoring='f1_macro')"
      ]
     },
     "execution_count": 14,
     "metadata": {},
     "output_type": "execute_result"
    }
   ],
   "source": [
    "lr_params = {'C':[0.4,0.6,0.8,1,3,5], 'penalty':[None,'l2'],'solver':['lbfgs','liblinear','sag']}\n",
    "lr = LogisticRegression(class_weight='balanced')\n",
    "grid_lr_model = GridSearchCV(lr, lr_params,cv=5, scoring=\"f1_macro\")\n",
    "grid_lr_model.fit(x_transformed,y)"
   ]
  },
  {
   "cell_type": "code",
   "execution_count": 15,
   "id": "78aa1990",
   "metadata": {
    "colab": {
     "base_uri": "https://localhost:8080/"
    },
    "id": "78aa1990",
    "outputId": "e00fed05-a5b5-4d01-fa36-01cf62775a92"
   },
   "outputs": [
    {
     "name": "stdout",
     "output_type": "stream",
     "text": [
      "Best Score : 0.4720573189149597\n",
      "Best Parameter : {'C': 3, 'penalty': 'l2', 'solver': 'sag'}\n"
     ]
    }
   ],
   "source": [
    "print('Best Score : {}'.format(grid_lr_model.best_score_))\n",
    "print(\"Best Parameter : {}\".format(grid_lr_model.best_params_))"
   ]
  },
  {
   "cell_type": "code",
   "execution_count": 16,
   "id": "86cf541e",
   "metadata": {},
   "outputs": [
    {
     "name": "stdout",
     "output_type": "stream",
     "text": [
      "Scores : [       nan        nan        nan 0.46129383 0.45421782 0.46118177\n",
      "        nan        nan        nan 0.46646413 0.46201248 0.46625868\n",
      "        nan        nan        nan 0.46926229 0.46391966 0.46895842\n",
      "        nan        nan        nan 0.47004515 0.46607458 0.47038566\n",
      "        nan        nan        nan 0.47190577 0.4720187  0.47205732\n",
      "        nan        nan        nan 0.47141797 0.46977037 0.47011114]\n",
      "Parameter : [{'C': 0.4, 'penalty': None, 'solver': 'lbfgs'}, {'C': 0.4, 'penalty': None, 'solver': 'liblinear'}, {'C': 0.4, 'penalty': None, 'solver': 'sag'}, {'C': 0.4, 'penalty': 'l2', 'solver': 'lbfgs'}, {'C': 0.4, 'penalty': 'l2', 'solver': 'liblinear'}, {'C': 0.4, 'penalty': 'l2', 'solver': 'sag'}, {'C': 0.6, 'penalty': None, 'solver': 'lbfgs'}, {'C': 0.6, 'penalty': None, 'solver': 'liblinear'}, {'C': 0.6, 'penalty': None, 'solver': 'sag'}, {'C': 0.6, 'penalty': 'l2', 'solver': 'lbfgs'}, {'C': 0.6, 'penalty': 'l2', 'solver': 'liblinear'}, {'C': 0.6, 'penalty': 'l2', 'solver': 'sag'}, {'C': 0.8, 'penalty': None, 'solver': 'lbfgs'}, {'C': 0.8, 'penalty': None, 'solver': 'liblinear'}, {'C': 0.8, 'penalty': None, 'solver': 'sag'}, {'C': 0.8, 'penalty': 'l2', 'solver': 'lbfgs'}, {'C': 0.8, 'penalty': 'l2', 'solver': 'liblinear'}, {'C': 0.8, 'penalty': 'l2', 'solver': 'sag'}, {'C': 1, 'penalty': None, 'solver': 'lbfgs'}, {'C': 1, 'penalty': None, 'solver': 'liblinear'}, {'C': 1, 'penalty': None, 'solver': 'sag'}, {'C': 1, 'penalty': 'l2', 'solver': 'lbfgs'}, {'C': 1, 'penalty': 'l2', 'solver': 'liblinear'}, {'C': 1, 'penalty': 'l2', 'solver': 'sag'}, {'C': 3, 'penalty': None, 'solver': 'lbfgs'}, {'C': 3, 'penalty': None, 'solver': 'liblinear'}, {'C': 3, 'penalty': None, 'solver': 'sag'}, {'C': 3, 'penalty': 'l2', 'solver': 'lbfgs'}, {'C': 3, 'penalty': 'l2', 'solver': 'liblinear'}, {'C': 3, 'penalty': 'l2', 'solver': 'sag'}, {'C': 5, 'penalty': None, 'solver': 'lbfgs'}, {'C': 5, 'penalty': None, 'solver': 'liblinear'}, {'C': 5, 'penalty': None, 'solver': 'sag'}, {'C': 5, 'penalty': 'l2', 'solver': 'lbfgs'}, {'C': 5, 'penalty': 'l2', 'solver': 'liblinear'}, {'C': 5, 'penalty': 'l2', 'solver': 'sag'}]\n"
     ]
    }
   ],
   "source": [
    "print('Scores : {}'.format(grid_lr_model.cv_results_['mean_test_score']))\n",
    "print(\"Parameter : {}\".format(grid_lr_model.cv_results_['params']))"
   ]
  },
  {
   "cell_type": "code",
   "execution_count": 17,
   "id": "b29a021d",
   "metadata": {},
   "outputs": [
    {
     "name": "stdout",
     "output_type": "stream",
     "text": [
      "ROC AUC Score : 0.6800698985842761\n",
      "Classification Report:\n",
      "              precision    recall  f1-score   support\n",
      "\n",
      "           0       0.57      0.62      0.60      1199\n",
      "           1       0.40      0.38      0.39      1173\n",
      "           2       0.42      0.36      0.38      1211\n",
      "           3       0.43      0.42      0.42      1135\n",
      "           4       0.59      0.66      0.62      1118\n",
      "\n",
      "   micro avg       0.49      0.49      0.49      5836\n",
      "   macro avg       0.48      0.49      0.48      5836\n",
      "weighted avg       0.48      0.49      0.48      5836\n",
      " samples avg       0.49      0.49      0.49      5836\n",
      "\n"
     ]
    }
   ],
   "source": [
    "from sklearn.preprocessing import LabelBinarizer\n",
    "\n",
    "lb = LabelBinarizer()\n",
    "\n",
    "lr_model = LogisticRegression(C=3, class_weight='balanced',penalty='l2',solver='lbfgs')\n",
    "lr_model.fit(xtrain, ytrain)\n",
    "\n",
    "yval = lb.fit_transform(yval)\n",
    "\n",
    "ypred = lr_model.predict(xval)\n",
    "\n",
    "ypred = lb.fit_transform(ypred)\n",
    "\n",
    "ypred_proba = lr_model.predict_proba(xval)\n",
    "\n",
    "cfr = classification_report(yval, ypred)\n",
    "auc = roc_auc_score(yval, ypred, multi_class='ovr')\n",
    "\n",
    "print(\"ROC AUC Score : {}\".format(auc))\n",
    "print('Classification Report:\\n{}'.format(cfr))"
   ]
  },
  {
   "cell_type": "code",
   "execution_count": 17,
   "id": "193600b9",
   "metadata": {},
   "outputs": [
    {
     "data": {
      "image/png": "[encoded data removed]",
      "text/plain": [
       "<Figure size 640x480 with 5 Axes>"
      ]
     },
     "metadata": {},
     "output_type": "display_data"
    }
   ],
   "source": [
    "from sklearn.preprocessing import label_binarize\n",
    "\n",
    "yval = label_binarize(yval, classes=(0,1,2,3,4))\n",
    "\n",
    "plt.subplot(2,3,1)\n",
    "fpr, tpr, threshold = roc_curve(yval[:,0], ypred_proba[:,1]) #class 0\n",
    "plt.plot(fpr, tpr)\n",
    "plt.xlabel('False Positive Rate')\n",
    "plt.ylabel('True Positives Rate')\n",
    "\n",
    "plt.subplot(2,3,2)\n",
    "fpr, tpr, threshold = roc_curve(yval[:,1], ypred_proba[:,1]) #class 1\n",
    "plt.plot(fpr, tpr)\n",
    "plt.xlabel('False Positive Rate')\n",
    "plt.ylabel('True Positives Rate')\n",
    "\n",
    "plt.subplot(2,3,3)\n",
    "fpr, tpr, threshold = roc_curve(yval[:,2], ypred_proba[:,1]) # class 2\n",
    "plt.plot(fpr, tpr)\n",
    "plt.xlabel('False Positive Rate')\n",
    "plt.ylabel('True Positives Rate')\n",
    "\n",
    "plt.subplot(2,3,4)\n",
    "fpr, tpr, threshold = roc_curve(yval[:,3], ypred_proba[:,1]) #class 3\n",
    "plt.plot(fpr, tpr)\n",
    "plt.xlabel('False Positive Rate')\n",
    "plt.ylabel('True Positives Rate')\n",
    "\n",
    "plt.subplot(2,3,5)\n",
    "fpr, tpr, threshold = roc_curve(yval[:,4], ypred_proba[:,1]) # class 4\n",
    "plt.plot(fpr, tpr)\n",
    "\n",
    "plt.xlabel('False Positive Rate')\n",
    "plt.ylabel('True Positives Rate')\n",
    "\n",
    "\n",
    "plt.show()"
   ]
  },
  {
   "cell_type": "code",
   "execution_count": 31,
   "id": "dea8c7fd",
   "metadata": {
    "colab": {
     "base_uri": "https://localhost:8080/",
     "height": 206
    },
    "id": "dea8c7fd",
    "outputId": "61e5fec6-76e5-4010-8819-1304a325ba8c"
   },
   "outputs": [
    {
     "data": {
      "text/html": [
       "<div>\n",
       "<style scoped>\n",
       "    .dataframe tbody tr th:only-of-type {\n",
       "        vertical-align: middle;\n",
       "    }\n",
       "\n",
       "    .dataframe tbody tr th {\n",
       "        vertical-align: top;\n",
       "    }\n",
       "\n",
       "    .dataframe thead th {\n",
       "        text-align: right;\n",
       "    }\n",
       "</style>\n",
       "<table border=\"1\" class=\"dataframe\">\n",
       "  <thead>\n",
       "    <tr style=\"text-align: right;\">\n",
       "      <th></th>\n",
       "      <th>id</th>\n",
       "      <th>predicted</th>\n",
       "    </tr>\n",
       "  </thead>\n",
       "  <tbody>\n",
       "    <tr>\n",
       "      <th>0</th>\n",
       "      <td>0</td>\n",
       "      <td>1</td>\n",
       "    </tr>\n",
       "    <tr>\n",
       "      <th>1</th>\n",
       "      <td>1</td>\n",
       "      <td>1</td>\n",
       "    </tr>\n",
       "    <tr>\n",
       "      <th>2</th>\n",
       "      <td>2</td>\n",
       "      <td>1</td>\n",
       "    </tr>\n",
       "    <tr>\n",
       "      <th>3</th>\n",
       "      <td>3</td>\n",
       "      <td>1</td>\n",
       "    </tr>\n",
       "    <tr>\n",
       "      <th>4</th>\n",
       "      <td>4</td>\n",
       "      <td>2</td>\n",
       "    </tr>\n",
       "  </tbody>\n",
       "</table>\n",
       "</div>"
      ],
      "text/plain": [
       "   id  predicted\n",
       "0   0          1\n",
       "1   1          1\n",
       "2   2          1\n",
       "3   3          1\n",
       "4   4          2"
      ]
     },
     "execution_count": 31,
     "metadata": {},
     "output_type": "execute_result"
    }
   ],
   "source": [
    "xtest = test_df['reviewText']\n",
    "xtest_transformed = tfidf.transform(xtest)\n",
    "\n",
    "preds = lr_model.predict(xtest_transformed)\n",
    "\n",
    "test_ids = list(test_df.index)\n",
    "\n",
    "subdf = pd.DataFrame({'id':test_ids, 'predicted':preds})\n",
    "subdf.head(5)"
   ]
  },
  {
   "cell_type": "code",
   "execution_count": 17,
   "id": "1986cd02",
   "metadata": {
    "id": "1986cd02"
   },
   "outputs": [],
   "source": [
    "subdf.to_csv('/Users/Lenovo/Desktop/Education/Winter term/COSC-274/lr_preds_multiclass.csv', index=False)"
   ]
  },
  {
   "cell_type": "markdown",
   "id": "87e53a5e",
   "metadata": {
    "id": "87e53a5e"
   },
   "source": [
    "## Naive Bayes"
   ]
  },
  {
   "cell_type": "code",
   "execution_count": 18,
   "id": "8f2c8d54",
   "metadata": {
    "colab": {
     "base_uri": "https://localhost:8080/"
    },
    "id": "8f2c8d54",
    "outputId": "45e2aed0-b6b6-49f3-9a26-dee2b28117e8"
   },
   "outputs": [
    {
     "data": {
      "text/plain": [
       "GridSearchCV(cv=5, estimator=MultinomialNB(),\n",
       "             param_grid={'alpha': [0.4, 0.6, 0.8, 1, 3, 5]},\n",
       "             scoring='f1_macro')"
      ]
     },
     "execution_count": 18,
     "metadata": {},
     "output_type": "execute_result"
    }
   ],
   "source": [
    "from sklearn.naive_bayes import MultinomialNB\n",
    "\n",
    "mnb = MultinomialNB()\n",
    "mnb_params = {'alpha':[0.4,0.6,0.8,1,3,5]}\n",
    "\n",
    "grid_mnb_model = GridSearchCV(mnb, mnb_params, cv=5, scoring='f1_macro')\n",
    "grid_mnb_model.fit(x_transformed, y)"
   ]
  },
  {
   "cell_type": "code",
   "execution_count": 19,
   "id": "52ad8083",
   "metadata": {},
   "outputs": [
    {
     "name": "stdout",
     "output_type": "stream",
     "text": [
      "Best Score : 0.45029754878059325\n",
      "Best Parameter : {'alpha': 0.4}\n"
     ]
    }
   ],
   "source": [
    "print('Best Score : {}'.format(grid_mnb_model.best_score_))\n",
    "print(\"Best Parameter : {}\".format(grid_mnb_model.best_params_))"
   ]
  },
  {
   "cell_type": "code",
   "execution_count": 20,
   "id": "de3db05a",
   "metadata": {},
   "outputs": [
    {
     "name": "stdout",
     "output_type": "stream",
     "text": [
      "Scores : [0.45029755 0.44739934 0.44620404 0.44648247 0.43921085 0.43297168]\n",
      "Parameter : [{'alpha': 0.4}, {'alpha': 0.6}, {'alpha': 0.8}, {'alpha': 1}, {'alpha': 3}, {'alpha': 5}]\n"
     ]
    }
   ],
   "source": [
    "print('Scores : {}'.format(grid_mnb_model.cv_results_['mean_test_score']))\n",
    "print(\"Parameter : {}\".format(grid_mnb_model.cv_results_['params']))"
   ]
  },
  {
   "cell_type": "code",
   "execution_count": 22,
   "id": "fa98ef63",
   "metadata": {
    "colab": {
     "base_uri": "https://localhost:8080/",
     "height": 206
    },
    "id": "fa98ef63",
    "outputId": "6aa53f61-ff29-414b-8111-56e9573e2d27"
   },
   "outputs": [
    {
     "name": "stdout",
     "output_type": "stream",
     "text": [
      "ROC AUC Score : 0.6585981438975296\n",
      "Classification Report:\n",
      "              precision    recall  f1-score   support\n",
      "\n",
      "           0       0.58      0.54      0.56      1199\n",
      "           1       0.34      0.54      0.42      1173\n",
      "           2       0.40      0.30      0.34      1211\n",
      "           3       0.41      0.49      0.45      1135\n",
      "           4       0.73      0.40      0.52      1118\n",
      "\n",
      "   micro avg       0.45      0.45      0.45      5836\n",
      "   macro avg       0.49      0.45      0.46      5836\n",
      "weighted avg       0.49      0.45      0.46      5836\n",
      " samples avg       0.45      0.45      0.45      5836\n",
      "\n"
     ]
    },
    {
     "data": {
      "text/html": [
       "<div>\n",
       "<style scoped>\n",
       "    .dataframe tbody tr th:only-of-type {\n",
       "        vertical-align: middle;\n",
       "    }\n",
       "\n",
       "    .dataframe tbody tr th {\n",
       "        vertical-align: top;\n",
       "    }\n",
       "\n",
       "    .dataframe thead th {\n",
       "        text-align: right;\n",
       "    }\n",
       "</style>\n",
       "<table border=\"1\" class=\"dataframe\">\n",
       "  <thead>\n",
       "    <tr style=\"text-align: right;\">\n",
       "      <th></th>\n",
       "      <th>id</th>\n",
       "      <th>predicted</th>\n",
       "    </tr>\n",
       "  </thead>\n",
       "  <tbody>\n",
       "    <tr>\n",
       "      <th>0</th>\n",
       "      <td>0</td>\n",
       "      <td>1</td>\n",
       "    </tr>\n",
       "    <tr>\n",
       "      <th>1</th>\n",
       "      <td>1</td>\n",
       "      <td>1</td>\n",
       "    </tr>\n",
       "    <tr>\n",
       "      <th>2</th>\n",
       "      <td>2</td>\n",
       "      <td>1</td>\n",
       "    </tr>\n",
       "    <tr>\n",
       "      <th>3</th>\n",
       "      <td>3</td>\n",
       "      <td>1</td>\n",
       "    </tr>\n",
       "    <tr>\n",
       "      <th>4</th>\n",
       "      <td>4</td>\n",
       "      <td>2</td>\n",
       "    </tr>\n",
       "  </tbody>\n",
       "</table>\n",
       "</div>"
      ],
      "text/plain": [
       "   id  predicted\n",
       "0   0          1\n",
       "1   1          1\n",
       "2   2          1\n",
       "3   3          1\n",
       "4   4          2"
      ]
     },
     "execution_count": 22,
     "metadata": {},
     "output_type": "execute_result"
    }
   ],
   "source": [
    "mnb_model = MultinomialNB(alpha=0.4)\n",
    "mnb_model.fit(xtrain, ytrain)\n",
    "\n",
    "yval = lb.fit_transform(yval)\n",
    "\n",
    "ypred = mnb_model.predict(xval)\n",
    "\n",
    "ypred = lb.fit_transform(ypred)\n",
    "\n",
    "ypred_proba = mnb_model.predict_proba(xval)\n",
    "\n",
    "cfr = classification_report(yval, ypred)\n",
    "auc = roc_auc_score(yval, ypred, multi_class='ovr')\n",
    "\n",
    "print(\"ROC AUC Score : {}\".format(auc))\n",
    "print('Classification Report:\\n{}'.format(cfr))\n",
    "\n",
    "preds = mnb_model.predict(xtest_transformed)\n",
    "\n",
    "test_ids = list(test_df.index)\n",
    "\n",
    "subdf = pd.DataFrame({'id':test_ids, 'predicted':preds})\n",
    "subdf.head(5)"
   ]
  },
  {
   "cell_type": "code",
   "execution_count": 23,
   "id": "ae591ba5",
   "metadata": {},
   "outputs": [
    {
     "data": {
      "image/png": "[encoded data removed]",
      "text/plain": [
       "<Figure size 640x480 with 5 Axes>"
      ]
     },
     "metadata": {},
     "output_type": "display_data"
    }
   ],
   "source": [
    "yval = label_binarize(yval, classes=(0,1,2,3,4))\n",
    "\n",
    "plt.subplot(2,3,1)\n",
    "fpr, tpr, threshold = roc_curve(yval[:,0], ypred_proba[:,1]) #class 0\n",
    "plt.plot(fpr, tpr)\n",
    "plt.xlabel('False Positive Rate')\n",
    "plt.ylabel('True Positives Rate')\n",
    "\n",
    "plt.subplot(2,3,2)\n",
    "fpr, tpr, threshold = roc_curve(yval[:,1], ypred_proba[:,1]) #class 1\n",
    "plt.plot(fpr, tpr)\n",
    "plt.xlabel('False Positive Rate')\n",
    "plt.ylabel('True Positives Rate')\n",
    "\n",
    "plt.subplot(2,3,3)\n",
    "fpr, tpr, threshold = roc_curve(yval[:,2], ypred_proba[:,1]) # class 2\n",
    "plt.plot(fpr, tpr)\n",
    "plt.xlabel('False Positive Rate')\n",
    "plt.ylabel('True Positives Rate')\n",
    "\n",
    "plt.subplot(2,3,4)\n",
    "fpr, tpr, threshold = roc_curve(yval[:,3], ypred_proba[:,1]) #class 3\n",
    "plt.plot(fpr, tpr)\n",
    "plt.xlabel('False Positive Rate')\n",
    "plt.ylabel('True Positives Rate')\n",
    "\n",
    "plt.subplot(2,3,5)\n",
    "fpr, tpr, threshold = roc_curve(yval[:,4], ypred_proba[:,1]) # class 4\n",
    "plt.plot(fpr, tpr)\n",
    "\n",
    "plt.xlabel('False Positive Rate')\n",
    "plt.ylabel('True Positives Rate')\n",
    "\n",
    "\n",
    "plt.show()"
   ]
  },
  {
   "cell_type": "code",
   "execution_count": 21,
   "id": "8cc55dbc",
   "metadata": {
    "id": "8cc55dbc"
   },
   "outputs": [],
   "source": [
    "subdf.to_csv('/Users/Lenovo/Desktop/Education/Winter term/COSC-274/naivebayes_preds_multiclass.csv', index=False)"
   ]
  },
  {
   "cell_type": "markdown",
   "id": "17742560",
   "metadata": {
    "id": "17742560"
   },
   "source": [
    "## Ridge Classifier"
   ]
  },
  {
   "cell_type": "code",
   "execution_count": 21,
   "id": "72e9516c",
   "metadata": {
    "colab": {
     "base_uri": "https://localhost:8080/"
    },
    "id": "72e9516c",
    "outputId": "f075a9b2-9fbe-4642-eab8-42f4a0821c6f"
   },
   "outputs": [
    {
     "data": {
      "text/plain": [
       "GridSearchCV(cv=5, estimator=RidgeClassifier(class_weight='balanced'),\n",
       "             param_grid={'alpha': [1, 2, 3], 'solver': ['auto', 'svd', 'sag']},\n",
       "             scoring='f1_macro')"
      ]
     },
     "execution_count": 21,
     "metadata": {},
     "output_type": "execute_result"
    }
   ],
   "source": [
    "from sklearn.linear_model import RidgeClassifier\n",
    "\n",
    "ridge = RidgeClassifier(class_weight='balanced')\n",
    "model_params = {'alpha':[1,2,3], 'solver':['auto','svd','sag']}\n",
    "\n",
    "ridge_model = GridSearchCV(ridge, model_params, cv=5, scoring=\"f1_macro\")\n",
    "ridge_model.fit(x_transformed, y)"
   ]
  },
  {
   "cell_type": "code",
   "execution_count": 22,
   "id": "0b059626",
   "metadata": {},
   "outputs": [
    {
     "name": "stdout",
     "output_type": "stream",
     "text": [
      "Best Score : 0.46764789913510374\n",
      "Best Parameter : {'alpha': 2, 'solver': 'sag'}\n"
     ]
    }
   ],
   "source": [
    "print('Best Score : {}'.format(ridge_model.best_score_))\n",
    "print(\"Best Parameter : {}\".format(ridge_model.best_params_))"
   ]
  },
  {
   "cell_type": "code",
   "execution_count": 23,
   "id": "b61c80b6",
   "metadata": {},
   "outputs": [
    {
     "name": "stdout",
     "output_type": "stream",
     "text": [
      "Scores : [0.46353602        nan 0.46419806 0.46700626        nan 0.4676479\n",
      " 0.46682743        nan 0.4666067 ]\n",
      "Parameter : [{'alpha': 1, 'solver': 'auto'}, {'alpha': 1, 'solver': 'svd'}, {'alpha': 1, 'solver': 'sag'}, {'alpha': 2, 'solver': 'auto'}, {'alpha': 2, 'solver': 'svd'}, {'alpha': 2, 'solver': 'sag'}, {'alpha': 3, 'solver': 'auto'}, {'alpha': 3, 'solver': 'svd'}, {'alpha': 3, 'solver': 'sag'}]\n"
     ]
    }
   ],
   "source": [
    "print('Scores : {}'.format(ridge_model.cv_results_['mean_test_score']))\n",
    "print(\"Parameter : {}\".format(ridge_model.cv_results_['params']))"
   ]
  },
  {
   "cell_type": "code",
   "execution_count": 35,
   "id": "686db618",
   "metadata": {},
   "outputs": [
    {
     "name": "stdout",
     "output_type": "stream",
     "text": [
      "ROC AUC Score : 0.68156237082393\n",
      "Classification Report:\n",
      "              precision    recall  f1-score   support\n",
      "\n",
      "           0       0.55      0.67      0.60      1199\n",
      "           1       0.41      0.33      0.36      1173\n",
      "           2       0.43      0.33      0.37      1211\n",
      "           3       0.44      0.41      0.43      1135\n",
      "           4       0.56      0.71      0.63      1118\n",
      "\n",
      "   micro avg       0.49      0.49      0.49      5836\n",
      "   macro avg       0.48      0.49      0.48      5836\n",
      "weighted avg       0.48      0.49      0.48      5836\n",
      " samples avg       0.49      0.49      0.49      5836\n",
      "\n"
     ]
    },
    {
     "data": {
      "text/html": [
       "<div>\n",
       "<style scoped>\n",
       "    .dataframe tbody tr th:only-of-type {\n",
       "        vertical-align: middle;\n",
       "    }\n",
       "\n",
       "    .dataframe tbody tr th {\n",
       "        vertical-align: top;\n",
       "    }\n",
       "\n",
       "    .dataframe thead th {\n",
       "        text-align: right;\n",
       "    }\n",
       "</style>\n",
       "<table border=\"1\" class=\"dataframe\">\n",
       "  <thead>\n",
       "    <tr style=\"text-align: right;\">\n",
       "      <th></th>\n",
       "      <th>id</th>\n",
       "      <th>predicted</th>\n",
       "    </tr>\n",
       "  </thead>\n",
       "  <tbody>\n",
       "    <tr>\n",
       "      <th>0</th>\n",
       "      <td>0</td>\n",
       "      <td>1</td>\n",
       "    </tr>\n",
       "    <tr>\n",
       "      <th>1</th>\n",
       "      <td>1</td>\n",
       "      <td>1</td>\n",
       "    </tr>\n",
       "    <tr>\n",
       "      <th>2</th>\n",
       "      <td>2</td>\n",
       "      <td>1</td>\n",
       "    </tr>\n",
       "    <tr>\n",
       "      <th>3</th>\n",
       "      <td>3</td>\n",
       "      <td>1</td>\n",
       "    </tr>\n",
       "    <tr>\n",
       "      <th>4</th>\n",
       "      <td>4</td>\n",
       "      <td>2</td>\n",
       "    </tr>\n",
       "  </tbody>\n",
       "</table>\n",
       "</div>"
      ],
      "text/plain": [
       "   id  predicted\n",
       "0   0          1\n",
       "1   1          1\n",
       "2   2          1\n",
       "3   3          1\n",
       "4   4          2"
      ]
     },
     "execution_count": 35,
     "metadata": {},
     "output_type": "execute_result"
    }
   ],
   "source": [
    "ridge_model = RidgeClassifier(alpha=2, solver='sag', class_weight='balanced')\n",
    "ridge_model.fit(xtrain, ytrain)\n",
    "\n",
    "yval = lb.fit_transform(yval)\n",
    "\n",
    "ypred = ridge_model.predict(xval)\n",
    "\n",
    "ypred = lb.fit_transform(ypred)\n",
    "\n",
    "ypred_proba = ridge_model.decision_function(xval)\n",
    "\n",
    "cfr = classification_report(yval, ypred)\n",
    "auc = roc_auc_score(yval, ypred, multi_class='ovr')\n",
    "\n",
    "print(\"ROC AUC Score : {}\".format(auc))\n",
    "print('Classification Report:\\n{}'.format(cfr))\n",
    "\n",
    "preds = mnb_model.predict(xtest_transformed)\n",
    "\n",
    "test_ids = list(test_df.index)\n",
    "\n",
    "subdf = pd.DataFrame({'id':test_ids, 'predicted':preds})\n",
    "subdf.head(5)"
   ]
  },
  {
   "cell_type": "code",
   "execution_count": 36,
   "id": "6296cd57",
   "metadata": {},
   "outputs": [
    {
     "data": {
      "image/png": "[encoded data removed]",
      "text/plain": [
       "<Figure size 640x480 with 5 Axes>"
      ]
     },
     "metadata": {},
     "output_type": "display_data"
    }
   ],
   "source": [
    "yval = label_binarize(yval, classes=(0,1,2,3,4))\n",
    "\n",
    "plt.subplot(2,3,1)\n",
    "fpr, tpr, threshold = roc_curve(yval[:,0], ypred_proba[:,1]) #class 0\n",
    "plt.plot(fpr, tpr)\n",
    "plt.xlabel('False Positive Rate')\n",
    "plt.ylabel('True Positives Rate')\n",
    "\n",
    "plt.subplot(2,3,2)\n",
    "fpr, tpr, threshold = roc_curve(yval[:,1], ypred_proba[:,1]) #class 1\n",
    "plt.plot(fpr, tpr)\n",
    "plt.xlabel('False Positive Rate')\n",
    "plt.ylabel('True Positives Rate')\n",
    "\n",
    "plt.subplot(2,3,3)\n",
    "fpr, tpr, threshold = roc_curve(yval[:,2], ypred_proba[:,1]) # class 2\n",
    "plt.plot(fpr, tpr)\n",
    "plt.xlabel('False Positive Rate')\n",
    "plt.ylabel('True Positives Rate')\n",
    "\n",
    "plt.subplot(2,3,4)\n",
    "fpr, tpr, threshold = roc_curve(yval[:,3], ypred_proba[:,1]) #class 3\n",
    "plt.plot(fpr, tpr)\n",
    "plt.xlabel('False Positive Rate')\n",
    "plt.ylabel('True Positives Rate')\n",
    "\n",
    "plt.subplot(2,3,5)\n",
    "fpr, tpr, threshold = roc_curve(yval[:,4], ypred_proba[:,1]) # class 4\n",
    "plt.plot(fpr, tpr)\n",
    "\n",
    "plt.xlabel('False Positive Rate')\n",
    "plt.ylabel('True Positives Rate')\n",
    "\n",
    "\n",
    "plt.show()"
   ]
  },
  {
   "cell_type": "code",
   "execution_count": 37,
   "id": "5c645f16",
   "metadata": {
    "id": "5c645f16"
   },
   "outputs": [
    {
     "data": {
      "text/html": [
       "<div>\n",
       "<style scoped>\n",
       "    .dataframe tbody tr th:only-of-type {\n",
       "        vertical-align: middle;\n",
       "    }\n",
       "\n",
       "    .dataframe tbody tr th {\n",
       "        vertical-align: top;\n",
       "    }\n",
       "\n",
       "    .dataframe thead th {\n",
       "        text-align: right;\n",
       "    }\n",
       "</style>\n",
       "<table border=\"1\" class=\"dataframe\">\n",
       "  <thead>\n",
       "    <tr style=\"text-align: right;\">\n",
       "      <th></th>\n",
       "      <th>id</th>\n",
       "      <th>predicted</th>\n",
       "    </tr>\n",
       "  </thead>\n",
       "  <tbody>\n",
       "    <tr>\n",
       "      <th>0</th>\n",
       "      <td>0</td>\n",
       "      <td>1</td>\n",
       "    </tr>\n",
       "    <tr>\n",
       "      <th>1</th>\n",
       "      <td>1</td>\n",
       "      <td>1</td>\n",
       "    </tr>\n",
       "    <tr>\n",
       "      <th>2</th>\n",
       "      <td>2</td>\n",
       "      <td>1</td>\n",
       "    </tr>\n",
       "    <tr>\n",
       "      <th>3</th>\n",
       "      <td>3</td>\n",
       "      <td>1</td>\n",
       "    </tr>\n",
       "    <tr>\n",
       "      <th>4</th>\n",
       "      <td>4</td>\n",
       "      <td>2</td>\n",
       "    </tr>\n",
       "  </tbody>\n",
       "</table>\n",
       "</div>"
      ],
      "text/plain": [
       "   id  predicted\n",
       "0   0          1\n",
       "1   1          1\n",
       "2   2          1\n",
       "3   3          1\n",
       "4   4          2"
      ]
     },
     "execution_count": 37,
     "metadata": {},
     "output_type": "execute_result"
    }
   ],
   "source": [
    "preds = ridge_model.predict(xtest_transformed)\n",
    "\n",
    "test_ids = list(test_df.index)\n",
    "\n",
    "subdf = pd.DataFrame({'id':test_ids, 'predicted':preds})\n",
    "subdf.head(5)"
   ]
  },
  {
   "cell_type": "code",
   "execution_count": 38,
   "id": "d7fb0946",
   "metadata": {
    "id": "d7fb0946"
   },
   "outputs": [],
   "source": [
    "subdf.to_csv('/Users/Lenovo/Desktop/Education/Winter term/COSC-274/ridge_multiclass_preds.csv', index=False)"
   ]
  },
  {
   "cell_type": "code",
   "execution_count": null,
   "id": "0f3a0e0b",
   "metadata": {},
   "outputs": [],
   "source": []
  }
 ],
 "metadata": {
  "colab": {
   "provenance": []
  },
  "kernelspec": {
   "display_name": "Python 3 (ipykernel)",
   "language": "python",
   "name": "python3"
  },
  "language_info": {
   "codemirror_mode": {
    "name": "ipython",
    "version": 3
   },
   "file_extension": ".py",
   "mimetype": "text/x-python",
   "name": "python",
   "nbconvert_exporter": "python",
   "pygments_lexer": "ipython3",
   "version": "3.9.13"
  }
 },
 "nbformat": 4,
 "nbformat_minor": 5
}
