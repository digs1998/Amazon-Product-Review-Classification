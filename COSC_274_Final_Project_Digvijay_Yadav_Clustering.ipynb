{
 "cells": [
  {
   "cell_type": "markdown",
   "id": "afceccd9",
   "metadata": {
    "id": "afceccd9"
   },
   "source": [
    "# Final Project\n",
    "\n",
    "## Loading libraries and Dataset"
   ]
  },
  {
   "cell_type": "code",
   "execution_count": 1,
   "id": "5cb1e165",
   "metadata": {
    "id": "5cb1e165"
   },
   "outputs": [],
   "source": [
    "import pandas as pd\n",
    "import sklearn\n",
    "import numpy as np\n",
    "import matplotlib.pyplot as plt\n",
    "import re, string"
   ]
  },
  {
   "cell_type": "code",
   "execution_count": 2,
   "id": "349decbb",
   "metadata": {
    "colab": {
     "base_uri": "https://localhost:8080/"
    },
    "id": "349decbb",
    "outputId": "3f130ca7-e441-4042-be6e-3e1c5498ce50"
   },
   "outputs": [
    {
     "name": "stdout",
     "output_type": "stream",
     "text": [
      "(29189, 13)\n",
      "(4500, 12)\n"
     ]
    }
   ],
   "source": [
    "train_df = pd.read_csv(\"/Users/Lenovo/Desktop/Education/Winter term/COSC-274/dartmouth-cosc-74274-w23-session1-part1/training.csv\")\n",
    "\n",
    "test_df = pd.read_csv(\"/Users/Lenovo/Desktop/Education/Winter term/COSC-274/dartmouth-cosc-74274-w23-session1-part1/test.csv\")\n",
    "\n",
    "print(train_df.shape)\n",
    "print(test_df.shape)"
   ]
  },
  {
   "cell_type": "code",
   "execution_count": 3,
   "id": "744000dd",
   "metadata": {
    "colab": {
     "base_uri": "https://localhost:8080/",
     "height": 444
    },
    "id": "744000dd",
    "outputId": "6ac5acfe-b450-4a13-8050-9236c6c65772"
   },
   "outputs": [
    {
     "data": {
      "text/html": [
       "<div>\n",
       "<style scoped>\n",
       "    .dataframe tbody tr th:only-of-type {\n",
       "        vertical-align: middle;\n",
       "    }\n",
       "\n",
       "    .dataframe tbody tr th {\n",
       "        vertical-align: top;\n",
       "    }\n",
       "\n",
       "    .dataframe thead th {\n",
       "        text-align: right;\n",
       "    }\n",
       "</style>\n",
       "<table border=\"1\" class=\"dataframe\">\n",
       "  <thead>\n",
       "    <tr style=\"text-align: right;\">\n",
       "      <th></th>\n",
       "      <th>verified</th>\n",
       "      <th>reviewTime</th>\n",
       "      <th>reviewerID</th>\n",
       "      <th>asin</th>\n",
       "      <th>reviewerName</th>\n",
       "      <th>reviewText</th>\n",
       "      <th>summary</th>\n",
       "      <th>unixReviewTime</th>\n",
       "      <th>vote</th>\n",
       "      <th>image</th>\n",
       "      <th>style</th>\n",
       "      <th>category</th>\n",
       "    </tr>\n",
       "  </thead>\n",
       "  <tbody>\n",
       "    <tr>\n",
       "      <th>0</th>\n",
       "      <td>True</td>\n",
       "      <td>07 23, 2015</td>\n",
       "      <td>28EA11D68FB7FF05B5ABB5989B0EDDD2</td>\n",
       "      <td>2CC19105CB9E7E4C30B1A399F3BFA181</td>\n",
       "      <td>B468F2974AA56619CF81B9DB66277892</td>\n",
       "      <td>ordered 318c and receive the 303c. my bad. i d...</td>\n",
       "      <td>Wrong filter</td>\n",
       "      <td>1437609600</td>\n",
       "      <td>NaN</td>\n",
       "      <td>NaN</td>\n",
       "      <td>NaN</td>\n",
       "      <td>automotive</td>\n",
       "    </tr>\n",
       "    <tr>\n",
       "      <th>1</th>\n",
       "      <td>True</td>\n",
       "      <td>11 14, 2016</td>\n",
       "      <td>465EF4B95F3C23F3D2E0DF032806B593</td>\n",
       "      <td>44FF14695671384604654465F32F51BE</td>\n",
       "      <td>B9CBF62E157F0A8798A4D33BA089CE2B</td>\n",
       "      <td>slime must have a serious manufacturing defect...</td>\n",
       "      <td>Don't waste your time on the compressor lottery.</td>\n",
       "      <td>1479081600</td>\n",
       "      <td>6.0</td>\n",
       "      <td>NaN</td>\n",
       "      <td>NaN</td>\n",
       "      <td>automotive</td>\n",
       "    </tr>\n",
       "    <tr>\n",
       "      <th>2</th>\n",
       "      <td>True</td>\n",
       "      <td>12 8, 2016</td>\n",
       "      <td>139CE33FEE21437434272524E638F60B</td>\n",
       "      <td>FD46962FBDA48B8BCB6BCCDE86515E83</td>\n",
       "      <td>68A0EDEBA61ACC7DD4096275BBFA6C8A</td>\n",
       "      <td>while the description says will not produce an...</td>\n",
       "      <td>Not error free in 2012 Mini Countryman S ALL4</td>\n",
       "      <td>1481155200</td>\n",
       "      <td>NaN</td>\n",
       "      <td>NaN</td>\n",
       "      <td>NaN</td>\n",
       "      <td>automotive</td>\n",
       "    </tr>\n",
       "    <tr>\n",
       "      <th>3</th>\n",
       "      <td>True</td>\n",
       "      <td>06 16, 2016</td>\n",
       "      <td>5FAB0AEBEEF467F40843E12D1AD2176C</td>\n",
       "      <td>B602B679B1EDBD9C59BC91802E521324</td>\n",
       "      <td>5C6E597BBBCACE38B3335C3D02CB0522</td>\n",
       "      <td>this keys could not start my truck, after cutt...</td>\n",
       "      <td>This keys could not start my truck, after cutt...</td>\n",
       "      <td>1466035200</td>\n",
       "      <td>NaN</td>\n",
       "      <td>NaN</td>\n",
       "      <td>{'Color:': ' Black'}</td>\n",
       "      <td>automotive</td>\n",
       "    </tr>\n",
       "    <tr>\n",
       "      <th>4</th>\n",
       "      <td>False</td>\n",
       "      <td>12 3, 2016</td>\n",
       "      <td>EEEFD48788F090F22767829BD219B24C</td>\n",
       "      <td>DA059E333E0AF68256582317DBEDA711</td>\n",
       "      <td>50DDC9EE6BA5B5E97F77CDC57CC32EFD</td>\n",
       "      <td>kept on trickle charger when the hd was not ri...</td>\n",
       "      <td>Kept on trickle charger when the HD was not ri...</td>\n",
       "      <td>1480723200</td>\n",
       "      <td>NaN</td>\n",
       "      <td>NaN</td>\n",
       "      <td>NaN</td>\n",
       "      <td>automotive</td>\n",
       "    </tr>\n",
       "  </tbody>\n",
       "</table>\n",
       "</div>"
      ],
      "text/plain": [
       "   verified   reviewTime                        reviewerID  \\\n",
       "0      True  07 23, 2015  28EA11D68FB7FF05B5ABB5989B0EDDD2   \n",
       "1      True  11 14, 2016  465EF4B95F3C23F3D2E0DF032806B593   \n",
       "2      True   12 8, 2016  139CE33FEE21437434272524E638F60B   \n",
       "3      True  06 16, 2016  5FAB0AEBEEF467F40843E12D1AD2176C   \n",
       "4     False   12 3, 2016  EEEFD48788F090F22767829BD219B24C   \n",
       "\n",
       "                               asin                      reviewerName  \\\n",
       "0  2CC19105CB9E7E4C30B1A399F3BFA181  B468F2974AA56619CF81B9DB66277892   \n",
       "1  44FF14695671384604654465F32F51BE  B9CBF62E157F0A8798A4D33BA089CE2B   \n",
       "2  FD46962FBDA48B8BCB6BCCDE86515E83  68A0EDEBA61ACC7DD4096275BBFA6C8A   \n",
       "3  B602B679B1EDBD9C59BC91802E521324  5C6E597BBBCACE38B3335C3D02CB0522   \n",
       "4  DA059E333E0AF68256582317DBEDA711  50DDC9EE6BA5B5E97F77CDC57CC32EFD   \n",
       "\n",
       "                                          reviewText  \\\n",
       "0  ordered 318c and receive the 303c. my bad. i d...   \n",
       "1  slime must have a serious manufacturing defect...   \n",
       "2  while the description says will not produce an...   \n",
       "3  this keys could not start my truck, after cutt...   \n",
       "4  kept on trickle charger when the hd was not ri...   \n",
       "\n",
       "                                             summary  unixReviewTime  vote  \\\n",
       "0                                       Wrong filter      1437609600   NaN   \n",
       "1   Don't waste your time on the compressor lottery.      1479081600   6.0   \n",
       "2      Not error free in 2012 Mini Countryman S ALL4      1481155200   NaN   \n",
       "3  This keys could not start my truck, after cutt...      1466035200   NaN   \n",
       "4  Kept on trickle charger when the HD was not ri...      1480723200   NaN   \n",
       "\n",
       "  image                 style    category  \n",
       "0   NaN                   NaN  automotive  \n",
       "1   NaN                   NaN  automotive  \n",
       "2   NaN                   NaN  automotive  \n",
       "3   NaN  {'Color:': ' Black'}  automotive  \n",
       "4   NaN                   NaN  automotive  "
      ]
     },
     "execution_count": 3,
     "metadata": {},
     "output_type": "execute_result"
    }
   ],
   "source": [
    "test_df.head(5)"
   ]
  },
  {
   "cell_type": "markdown",
   "id": "ec2b4216",
   "metadata": {
    "id": "ec2b4216"
   },
   "source": [
    "## Check for Missing Values"
   ]
  },
  {
   "cell_type": "code",
   "execution_count": 4,
   "id": "bc96ea23",
   "metadata": {
    "colab": {
     "base_uri": "https://localhost:8080/"
    },
    "id": "bc96ea23",
    "outputId": "a399f634-0079-4e79-8263-ad00057b1d87"
   },
   "outputs": [
    {
     "data": {
      "text/plain": [
       "verified             0\n",
       "reviewTime           0\n",
       "reviewerID           0\n",
       "asin                 0\n",
       "reviewerName         0\n",
       "reviewText           0\n",
       "summary              3\n",
       "unixReviewTime       0\n",
       "vote              3578\n",
       "image             4404\n",
       "style             2137\n",
       "category             0\n",
       "dtype: int64"
      ]
     },
     "execution_count": 4,
     "metadata": {},
     "output_type": "execute_result"
    }
   ],
   "source": [
    "test_df.isna().sum()"
   ]
  },
  {
   "cell_type": "markdown",
   "id": "2cceda90",
   "metadata": {
    "id": "2cceda90"
   },
   "source": [
    "## Removing Unnecessary Columns"
   ]
  },
  {
   "cell_type": "code",
   "execution_count": 5,
   "id": "615eb66a",
   "metadata": {
    "colab": {
     "base_uri": "https://localhost:8080/",
     "height": 444
    },
    "id": "615eb66a",
    "outputId": "cf16fd6c-7c79-436f-d478-d3fd9e061fde"
   },
   "outputs": [
    {
     "data": {
      "text/html": [
       "<div>\n",
       "<style scoped>\n",
       "    .dataframe tbody tr th:only-of-type {\n",
       "        vertical-align: middle;\n",
       "    }\n",
       "\n",
       "    .dataframe tbody tr th {\n",
       "        vertical-align: top;\n",
       "    }\n",
       "\n",
       "    .dataframe thead th {\n",
       "        text-align: right;\n",
       "    }\n",
       "</style>\n",
       "<table border=\"1\" class=\"dataframe\">\n",
       "  <thead>\n",
       "    <tr style=\"text-align: right;\">\n",
       "      <th></th>\n",
       "      <th>verified</th>\n",
       "      <th>reviewTime</th>\n",
       "      <th>reviewerID</th>\n",
       "      <th>asin</th>\n",
       "      <th>reviewerName</th>\n",
       "      <th>reviewText</th>\n",
       "      <th>summary</th>\n",
       "      <th>unixReviewTime</th>\n",
       "      <th>vote</th>\n",
       "      <th>style</th>\n",
       "      <th>category</th>\n",
       "    </tr>\n",
       "  </thead>\n",
       "  <tbody>\n",
       "    <tr>\n",
       "      <th>0</th>\n",
       "      <td>True</td>\n",
       "      <td>07 23, 2015</td>\n",
       "      <td>28EA11D68FB7FF05B5ABB5989B0EDDD2</td>\n",
       "      <td>2CC19105CB9E7E4C30B1A399F3BFA181</td>\n",
       "      <td>B468F2974AA56619CF81B9DB66277892</td>\n",
       "      <td>ordered 318c and receive the 303c. my bad. i d...</td>\n",
       "      <td>Wrong filter</td>\n",
       "      <td>1437609600</td>\n",
       "      <td>NaN</td>\n",
       "      <td>NaN</td>\n",
       "      <td>automotive</td>\n",
       "    </tr>\n",
       "    <tr>\n",
       "      <th>1</th>\n",
       "      <td>True</td>\n",
       "      <td>11 14, 2016</td>\n",
       "      <td>465EF4B95F3C23F3D2E0DF032806B593</td>\n",
       "      <td>44FF14695671384604654465F32F51BE</td>\n",
       "      <td>B9CBF62E157F0A8798A4D33BA089CE2B</td>\n",
       "      <td>slime must have a serious manufacturing defect...</td>\n",
       "      <td>Don't waste your time on the compressor lottery.</td>\n",
       "      <td>1479081600</td>\n",
       "      <td>6.0</td>\n",
       "      <td>NaN</td>\n",
       "      <td>automotive</td>\n",
       "    </tr>\n",
       "    <tr>\n",
       "      <th>2</th>\n",
       "      <td>True</td>\n",
       "      <td>12 8, 2016</td>\n",
       "      <td>139CE33FEE21437434272524E638F60B</td>\n",
       "      <td>FD46962FBDA48B8BCB6BCCDE86515E83</td>\n",
       "      <td>68A0EDEBA61ACC7DD4096275BBFA6C8A</td>\n",
       "      <td>while the description says will not produce an...</td>\n",
       "      <td>Not error free in 2012 Mini Countryman S ALL4</td>\n",
       "      <td>1481155200</td>\n",
       "      <td>NaN</td>\n",
       "      <td>NaN</td>\n",
       "      <td>automotive</td>\n",
       "    </tr>\n",
       "    <tr>\n",
       "      <th>3</th>\n",
       "      <td>True</td>\n",
       "      <td>06 16, 2016</td>\n",
       "      <td>5FAB0AEBEEF467F40843E12D1AD2176C</td>\n",
       "      <td>B602B679B1EDBD9C59BC91802E521324</td>\n",
       "      <td>5C6E597BBBCACE38B3335C3D02CB0522</td>\n",
       "      <td>this keys could not start my truck, after cutt...</td>\n",
       "      <td>This keys could not start my truck, after cutt...</td>\n",
       "      <td>1466035200</td>\n",
       "      <td>NaN</td>\n",
       "      <td>{'Color:': ' Black'}</td>\n",
       "      <td>automotive</td>\n",
       "    </tr>\n",
       "    <tr>\n",
       "      <th>4</th>\n",
       "      <td>False</td>\n",
       "      <td>12 3, 2016</td>\n",
       "      <td>EEEFD48788F090F22767829BD219B24C</td>\n",
       "      <td>DA059E333E0AF68256582317DBEDA711</td>\n",
       "      <td>50DDC9EE6BA5B5E97F77CDC57CC32EFD</td>\n",
       "      <td>kept on trickle charger when the hd was not ri...</td>\n",
       "      <td>Kept on trickle charger when the HD was not ri...</td>\n",
       "      <td>1480723200</td>\n",
       "      <td>NaN</td>\n",
       "      <td>NaN</td>\n",
       "      <td>automotive</td>\n",
       "    </tr>\n",
       "  </tbody>\n",
       "</table>\n",
       "</div>"
      ],
      "text/plain": [
       "   verified   reviewTime                        reviewerID  \\\n",
       "0      True  07 23, 2015  28EA11D68FB7FF05B5ABB5989B0EDDD2   \n",
       "1      True  11 14, 2016  465EF4B95F3C23F3D2E0DF032806B593   \n",
       "2      True   12 8, 2016  139CE33FEE21437434272524E638F60B   \n",
       "3      True  06 16, 2016  5FAB0AEBEEF467F40843E12D1AD2176C   \n",
       "4     False   12 3, 2016  EEEFD48788F090F22767829BD219B24C   \n",
       "\n",
       "                               asin                      reviewerName  \\\n",
       "0  2CC19105CB9E7E4C30B1A399F3BFA181  B468F2974AA56619CF81B9DB66277892   \n",
       "1  44FF14695671384604654465F32F51BE  B9CBF62E157F0A8798A4D33BA089CE2B   \n",
       "2  FD46962FBDA48B8BCB6BCCDE86515E83  68A0EDEBA61ACC7DD4096275BBFA6C8A   \n",
       "3  B602B679B1EDBD9C59BC91802E521324  5C6E597BBBCACE38B3335C3D02CB0522   \n",
       "4  DA059E333E0AF68256582317DBEDA711  50DDC9EE6BA5B5E97F77CDC57CC32EFD   \n",
       "\n",
       "                                          reviewText  \\\n",
       "0  ordered 318c and receive the 303c. my bad. i d...   \n",
       "1  slime must have a serious manufacturing defect...   \n",
       "2  while the description says will not produce an...   \n",
       "3  this keys could not start my truck, after cutt...   \n",
       "4  kept on trickle charger when the hd was not ri...   \n",
       "\n",
       "                                             summary  unixReviewTime  vote  \\\n",
       "0                                       Wrong filter      1437609600   NaN   \n",
       "1   Don't waste your time on the compressor lottery.      1479081600   6.0   \n",
       "2      Not error free in 2012 Mini Countryman S ALL4      1481155200   NaN   \n",
       "3  This keys could not start my truck, after cutt...      1466035200   NaN   \n",
       "4  Kept on trickle charger when the HD was not ri...      1480723200   NaN   \n",
       "\n",
       "                  style    category  \n",
       "0                   NaN  automotive  \n",
       "1                   NaN  automotive  \n",
       "2                   NaN  automotive  \n",
       "3  {'Color:': ' Black'}  automotive  \n",
       "4                   NaN  automotive  "
      ]
     },
     "execution_count": 5,
     "metadata": {},
     "output_type": "execute_result"
    }
   ],
   "source": [
    "test_df = test_df.drop('image', axis=1)\n",
    "test_df.head(5)"
   ]
  },
  {
   "cell_type": "code",
   "execution_count": 6,
   "id": "2ca56516",
   "metadata": {
    "colab": {
     "base_uri": "https://localhost:8080/"
    },
    "id": "2ca56516",
    "outputId": "14cc2c78-6057-4944-d1ae-d50488a194a2"
   },
   "outputs": [
    {
     "name": "stdout",
     "output_type": "stream",
     "text": [
      "<class 'pandas.core.frame.DataFrame'>\n",
      "RangeIndex: 4500 entries, 0 to 4499\n",
      "Data columns (total 11 columns):\n",
      " #   Column          Non-Null Count  Dtype  \n",
      "---  ------          --------------  -----  \n",
      " 0   verified        4500 non-null   bool   \n",
      " 1   reviewTime      4500 non-null   object \n",
      " 2   reviewerID      4500 non-null   object \n",
      " 3   asin            4500 non-null   object \n",
      " 4   reviewerName    4500 non-null   object \n",
      " 5   reviewText      4500 non-null   object \n",
      " 6   summary         4497 non-null   object \n",
      " 7   unixReviewTime  4500 non-null   int64  \n",
      " 8   vote            922 non-null    float64\n",
      " 9   style           2363 non-null   object \n",
      " 10  category        4500 non-null   object \n",
      "dtypes: bool(1), float64(1), int64(1), object(8)\n",
      "memory usage: 356.1+ KB\n"
     ]
    }
   ],
   "source": [
    "test_df.info()"
   ]
  },
  {
   "cell_type": "code",
   "execution_count": 7,
   "id": "b1bd8be0",
   "metadata": {
    "id": "b1bd8be0"
   },
   "outputs": [],
   "source": [
    "test_df = test_df.dropna()"
   ]
  },
  {
   "cell_type": "code",
   "execution_count": 8,
   "id": "010d44f2",
   "metadata": {
    "id": "010d44f2"
   },
   "outputs": [],
   "source": [
    "## preprocess the dataset\n",
    "\n",
    "def preprocessing(t):\n",
    "    t = t.lower()\n",
    "    \n",
    "    #removing punctuations\n",
    "    t = t.translate(str.maketrans('','',string.punctuation))\n",
    "    \n",
    "    #removing digits\n",
    "    t = re.sub(r'\\d','', t)\n",
    "    \n",
    "    #removing whitespaces\n",
    "    t = t.strip()\n",
    "    \n",
    "    return t\n",
    "\n",
    "test_df['reviewText'] = test_df['reviewText'].apply(preprocessing)\n",
    "test_df['summary'] = test_df['summary'].apply(preprocessing)\n",
    "#test_df['style'] = test_df['style'].apply(preprocessing)"
   ]
  },
  {
   "cell_type": "code",
   "execution_count": 9,
   "id": "ba2beb27",
   "metadata": {},
   "outputs": [],
   "source": [
    "stop_words = ['a', 'an', 'the', 'and', 'but', 'or', 'if', 'because', 'as', 'at', \n",
    "              'by', 'for', 'from', 'in', 'into', 'of', 'off', 'on', \n",
    "              'onto', 'out', 'over', 'to', 'up', 'with']\n",
    "\n",
    "test_df['reviewText'] = test_df['reviewText'].apply(lambda x: ' '.join([word for word in x.split() if word not in stop_words]))\n",
    "test_df['summary'] = test_df['summary'].apply(lambda x: ' '.join([word for word in x.split() if word not in stop_words]))\n",
    "\n",
    "#test_df['style'] = test_df['reviewText'].apply(lambda x: ' '.join([word for word in x.split() if word not in stop_words]))\n"
   ]
  },
  {
   "cell_type": "markdown",
   "id": "12021504",
   "metadata": {
    "id": "12021504"
   },
   "source": [
    "# Clustering"
   ]
  },
  {
   "cell_type": "code",
   "execution_count": 10,
   "id": "5097dea6",
   "metadata": {
    "id": "5097dea6"
   },
   "outputs": [],
   "source": [
    "from sklearn.model_selection import cross_validate, cross_val_score, cross_val_predict, StratifiedKFold, GridSearchCV, RandomizedSearchCV, train_test_split\n",
    "from sklearn.feature_extraction.text import TfidfVectorizer, CountVectorizer\n",
    "from sklearn.metrics import rand_score, silhouette_score\n",
    "from sklearn.cluster import KMeans\n",
    "\n",
    "x = test_df['reviewText']\n",
    "\n",
    "cv = CountVectorizer(ngram_range=(0,4))\n",
    "x_transformed = cv.fit_transform(x)"
   ]
  },
  {
   "cell_type": "code",
   "execution_count": 24,
   "id": "493b8da2",
   "metadata": {},
   "outputs": [],
   "source": [
    "kmeans = KMeans(n_clusters = 3, random_state=100).fit(x_transformed)"
   ]
  },
  {
   "cell_type": "code",
   "execution_count": 25,
   "id": "1ce25ff9",
   "metadata": {},
   "outputs": [
    {
     "data": {
      "text/plain": [
       "0.6385455157696451"
      ]
     },
     "execution_count": 25,
     "metadata": {},
     "output_type": "execute_result"
    }
   ],
   "source": [
    "silhouette_score(x_transformed, kmeans.labels_)"
   ]
  },
  {
   "cell_type": "code",
   "execution_count": 26,
   "id": "90d9bfbb",
   "metadata": {},
   "outputs": [
    {
     "data": {
      "text/plain": [
       "0.4079646017699115"
      ]
     },
     "execution_count": 26,
     "metadata": {},
     "output_type": "execute_result"
    }
   ],
   "source": [
    "rand_score(test_df['category'], kmeans.labels_)"
   ]
  },
  {
   "cell_type": "code",
   "execution_count": null,
   "id": "47ff2c8d",
   "metadata": {},
   "outputs": [],
   "source": []
  }
 ],
 "metadata": {
  "colab": {
   "provenance": []
  },
  "kernelspec": {
   "display_name": "Python 3 (ipykernel)",
   "language": "python",
   "name": "python3"
  },
  "language_info": {
   "codemirror_mode": {
    "name": "ipython",
    "version": 3
   },
   "file_extension": ".py",
   "mimetype": "text/x-python",
   "name": "python",
   "nbconvert_exporter": "python",
   "pygments_lexer": "ipython3",
   "version": "3.9.13"
  }
 },
 "nbformat": 4,
 "nbformat_minor": 5
}
